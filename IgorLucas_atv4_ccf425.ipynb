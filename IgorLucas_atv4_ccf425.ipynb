{
  "nbformat": 4,
  "nbformat_minor": 0,
  "metadata": {
    "colab": {
      "name": "3865-IgorLucas-atv4",
      "provenance": []
    },
    "kernelspec": {
      "name": "python3",
      "display_name": "Python 3"
    },
    "language_info": {
      "name": "python"
    }
  },
  "cells": [
    {
      "cell_type": "markdown",
      "source": [
        "Nome: Igor Lucas dos Santos Braz\n",
        "\n",
        "Matricula: 3865"
      ],
      "metadata": {
        "id": "rQ8Jdxp4TaBU"
      }
    },
    {
      "cell_type": "code",
      "execution_count": 44,
      "metadata": {
        "id": "LoVLP9vVxjyc"
      },
      "outputs": [],
      "source": [
        "import pandas as pd\n",
        "import numpy as np"
      ]
    },
    {
      "cell_type": "code",
      "source": [
        "from google.colab import drive\n",
        "drive.mount('/content/drive')"
      ],
      "metadata": {
        "colab": {
          "base_uri": "https://localhost:8080/"
        },
        "id": "FMYtmkBdx_j8",
        "outputId": "932d214b-d4c6-437c-e595-6f5a3e147cec"
      },
      "execution_count": 45,
      "outputs": [
        {
          "output_type": "stream",
          "name": "stdout",
          "text": [
            "Drive already mounted at /content/drive; to attempt to forcibly remount, call drive.mount(\"/content/drive\", force_remount=True).\n"
          ]
        }
      ]
    },
    {
      "cell_type": "markdown",
      "source": [
        "1. Protocolos IA171 e IE666"
      ],
      "metadata": {
        "id": "IGd1lzp6zhUt"
      }
    },
    {
      "cell_type": "code",
      "source": [
        "ia171 = pd.read_csv('/content/atraso_ia171.csv', index_col=False, header=None, squeeze=True)\n",
        "\n",
        "ia171.describe()"
      ],
      "metadata": {
        "colab": {
          "base_uri": "https://localhost:8080/"
        },
        "id": "upTLzQm3z2sJ",
        "outputId": "b53be1d6-4a9a-4b5b-a04a-429c7b6c0b7b"
      },
      "execution_count": 46,
      "outputs": [
        {
          "output_type": "execute_result",
          "data": {
            "text/plain": [
              "count    100.000000\n",
              "mean     500.230600\n",
              "std       23.901383\n",
              "min      424.770000\n",
              "25%      483.540000\n",
              "50%      503.905000\n",
              "75%      516.222500\n",
              "max      558.330000\n",
              "Name: 0, dtype: float64"
            ]
          },
          "metadata": {},
          "execution_count": 46
        }
      ]
    },
    {
      "cell_type": "code",
      "source": [
        "ie666=pd.read_csv('/content/atraso_ie666.csv', index_col=False, header=None, squeeze=True)\n",
        "\n",
        "ie666.describe()"
      ],
      "metadata": {
        "colab": {
          "base_uri": "https://localhost:8080/"
        },
        "id": "cIL4bk120t5K",
        "outputId": "ca4fefca-d058-4603-d2a4-10cef124cc3f"
      },
      "execution_count": 47,
      "outputs": [
        {
          "output_type": "execute_result",
          "data": {
            "text/plain": [
              "count    100.000000\n",
              "mean     186.781500\n",
              "std       53.278042\n",
              "min       54.960000\n",
              "25%      154.040000\n",
              "50%      178.895000\n",
              "75%      230.262500\n",
              "max      317.690000\n",
              "Name: 0, dtype: float64"
            ]
          },
          "metadata": {},
          "execution_count": 47
        }
      ]
    },
    {
      "cell_type": "markdown",
      "source": [
        "Fazendo as hipóteses, temos que a hipótese nula é => média(ia171)=média(ie666). Já a hipótese alternativo = média(ia171) != média(ie666)\n",
        "\n",
        "Com isso, o teste bilateral, a diferença entre as médias pode ser para cima ou para baixo"
      ],
      "metadata": {
        "id": "1b5Fp9Tf3KbI"
      }
    },
    {
      "cell_type": "code",
      "source": [
        "media = ia171.mean()\n",
        "desvio = ia171.std()\n",
        "tam = len(ia171)\n",
        "desvio_erro = desvio/np.sqrt(tam)\n",
        "\n",
        "confianca = (media - (1.95*desvio_erro)) - (media +(1.95*desvio_erro))\n",
        "\n",
        "print(\"media ia171: %.3f\" % media)\n",
        "print(\"Intervalo: [%.3f - %.3f]\" % ((media - (1.96*desvio_erro)), (media +(1.96*desvio_erro))))"
      ],
      "metadata": {
        "colab": {
          "base_uri": "https://localhost:8080/"
        },
        "id": "yH_jYlYD2LyA",
        "outputId": "efa50819-9c99-439c-818c-b103486f82ae"
      },
      "execution_count": 74,
      "outputs": [
        {
          "output_type": "stream",
          "name": "stdout",
          "text": [
            "media ia171: 500.231\n",
            "Intervalo: [495.546 - 504.915]\n"
          ]
        }
      ]
    },
    {
      "cell_type": "markdown",
      "source": [
        "Agora fazendo o intervalo de confiança para ie666"
      ],
      "metadata": {
        "id": "cybtyahm7jyC"
      }
    },
    {
      "cell_type": "code",
      "source": [
        "media = ie666.mean()\n",
        "desvio = ie666.std()\n",
        "tam = len(ie666)\n",
        "desvio_erro = desvio/np.sqrt(tam)\n",
        "\n",
        "confianca = (media - (1.95*desvio_erro)) - (media +(1.95*desvio_erro))\n",
        "\n",
        "print(\"media ie666: %.3f\" % media)\n",
        "print(\"Intervalo: [%.3f - %.3f]\" % ((media - (1.96*desvio_erro)), (media +(1.96*desvio_erro))))"
      ],
      "metadata": {
        "colab": {
          "base_uri": "https://localhost:8080/"
        },
        "id": "OvjGxbzi77Hu",
        "outputId": "8829089d-7e33-4c9f-dc20-52963cb2f90c"
      },
      "execution_count": 75,
      "outputs": [
        {
          "output_type": "stream",
          "name": "stdout",
          "text": [
            "media ie666: 186.782\n",
            "Intervalo: [176.339 - 197.224]\n"
          ]
        }
      ]
    },
    {
      "cell_type": "markdown",
      "source": [
        "Com base nos intervalos de confiança já da para ter uma noção da diferença dos protocolos.\n",
        "Com isso: "
      ],
      "metadata": {
        "id": "fnxzk62f88-o"
      }
    },
    {
      "cell_type": "code",
      "source": [
        "media1 = ia171.mean()\n",
        "media2 = ie666.mean()\n",
        "desvio1 = ia171.std()\n",
        "desvio2 = ie666.std()\n",
        "tam1 = len(ia171)\n",
        "tam2 = len(ie666)\n",
        "desvio_erro_dif=np.sqrt((np.power(desvio2,2)/tam2) + (np.power(desvio1,2)/tam1))\n",
        "dif_media=(media2 - media1)\n",
        "\n",
        "print(\"Diferenças: %.3f\" % dif_media)\n",
        "print(\"Erro padrão da diferença: %.3f \" % desvio_erro_dif)\n",
        "print(\"As diferenças de média está %.3f vezes o erro padrao da média\" % (dif_media/desvio_erro_dif))\n"
      ],
      "metadata": {
        "colab": {
          "base_uri": "https://localhost:8080/"
        },
        "id": "o7yG-a0_88A9",
        "outputId": "e1a212ed-1cda-4dd9-f74b-f652c2f49f8c"
      },
      "execution_count": 76,
      "outputs": [
        {
          "output_type": "stream",
          "name": "stdout",
          "text": [
            "Diferenças: -313.449\n",
            "Erro padrão da diferença: 5.839 \n",
            "As diferenças de média está -53.679 vezes o erro padrao da média\n"
          ]
        }
      ]
    },
    {
      "cell_type": "markdown",
      "source": [
        "Como a diferença entre as médias é maior que 50 vezes o erro padrão da diferença das médias, é extramamente improvável que a hipótese nula se confirme. Nesse caso, podemos escolher o protocolo com menor média (no caso, ie666).\n",
        "\n",
        "Mesmo assim, vamos calcular o P-Value considerando a distribuição normal, multiplicando por 2 por ser um teste bilateral.\n",
        "\n",
        "Para isso, vamos assumir um alpha=5% (0,05). Então, caso p-value < 0,05, podemos rejeitara hipótese nula.\n"
      ],
      "metadata": {
        "id": "m4gN283FUsB6"
      }
    },
    {
      "cell_type": "code",
      "source": [
        "alpha=0.05\n",
        "p_value_normal = ((1-st.norm.cdf(abs(2)))*2)\n",
        "print(\"(Normal) valor-p= %.3f \" % p_value_normal)\n",
        "if(p_value_normal < alpha):\n",
        "  print(\"Hipótese nula pode ser rejeitada\")\n",
        "else:\n",
        "  print(\"Não podemos rejeitar a hipótese nula\")"
      ],
      "metadata": {
        "colab": {
          "base_uri": "https://localhost:8080/"
        },
        "id": "hTEActbQUtPL",
        "outputId": "028b0c00-ace8-4285-bb96-b3ca8da8d8ae"
      },
      "execution_count": 79,
      "outputs": [
        {
          "output_type": "stream",
          "name": "stdout",
          "text": [
            "(Normal) valor-p= 0.046 \n",
            "Hipótese nula pode ser rejeitada\n"
          ]
        }
      ]
    },
    {
      "cell_type": "code",
      "source": [
        "# t-test é usado quando:\n",
        "# a) Não sabemos a variancia da populacão\n",
        "# b) Tamanho da amostra é pequeno (n < 30)\n",
        "graus_liberdade = len(ie666) + len(ia171) - 2\n",
        "p_value_t = (1-st.t.cdf(abs(desvio_erro_dif),graus_liberdade))*2\n",
        "print(\"(T-Test) valor-p= %.3f \" % p_value_t)"
      ],
      "metadata": {
        "colab": {
          "base_uri": "https://localhost:8080/"
        },
        "id": "-X5BoAp_V0Vq",
        "outputId": "7d0d11a2-a416-4ae5-bd75-22530948e384"
      },
      "execution_count": 81,
      "outputs": [
        {
          "output_type": "stream",
          "name": "stdout",
          "text": [
            "(T-Test) valor-p= 0.000 \n"
          ]
        }
      ]
    },
    {
      "cell_type": "markdown",
      "source": [
        "A diferença entre as médias é 50 vezes maior que o erro padrõa da diferença das médias, com isso é improvável que a hipotese nula seja verdade. Portanto, escolhemos o protocolo com menor média(ie666).\n",
        "Com isso, o protocolo com menor faixa do intervalo de confiança(ia666) deverá ser escolhido por ser o melhor."
      ],
      "metadata": {
        "id": "ZEqg9ot_CE76"
      }
    },
    {
      "cell_type": "markdown",
      "source": [
        "**2. CombNar e BitComb **"
      ],
      "metadata": {
        "id": "NMWQ0KAmDjTi"
      }
    },
    {
      "cell_type": "code",
      "source": [
        "combinar=pd.read_csv(\"/content/tempo_combinar.csv\", index_col=False, header=None, squeeze=True)\n",
        "\n",
        "combinar.describe()"
      ],
      "metadata": {
        "colab": {
          "base_uri": "https://localhost:8080/"
        },
        "id": "QIIAleubDhOq",
        "outputId": "70b610b6-1be2-44f3-9fa6-a33b359c4601"
      },
      "execution_count": 60,
      "outputs": [
        {
          "output_type": "execute_result",
          "data": {
            "text/plain": [
              "count    100.000000\n",
              "mean       9.540900\n",
              "std        3.956263\n",
              "min       -2.150000\n",
              "25%        7.682500\n",
              "50%        9.250000\n",
              "75%       12.407500\n",
              "max       18.400000\n",
              "Name: 0, dtype: float64"
            ]
          },
          "metadata": {},
          "execution_count": 60
        }
      ]
    },
    {
      "cell_type": "code",
      "source": [
        "bitcomb=pd.read_csv(\"/content/tempo_bitcomb.csv\", index_col=False, header=None, squeeze=True)\n",
        "\n",
        "bitcomb.describe()"
      ],
      "metadata": {
        "colab": {
          "base_uri": "https://localhost:8080/"
        },
        "id": "UjG7OShLIBJ5",
        "outputId": "8f5d1b1a-316b-4cc5-db9d-97ed4ac7a0cb"
      },
      "execution_count": 61,
      "outputs": [
        {
          "output_type": "execute_result",
          "data": {
            "text/plain": [
              "count    100.000000\n",
              "mean       8.743500\n",
              "std        3.600244\n",
              "min       -0.070000\n",
              "25%        6.100000\n",
              "50%        8.640000\n",
              "75%       11.382500\n",
              "max       17.200000\n",
              "Name: 0, dtype: float64"
            ]
          },
          "metadata": {},
          "execution_count": 61
        }
      ]
    },
    {
      "cell_type": "markdown",
      "source": [
        "\n",
        "Fazendo as hipóteses, temos que a hipótese nula é => média(Combinar)=média(Bitcomb). Já a hipótese alternativo = média(combinar) > média(bitcomb), considerando que um tempo maior é pior.\n",
        "\n",
        "Teste unilateral pela direita:\n",
        "Reijatando A HIPOTESE NULA SE A PROBABILIDADE DE ENCONTRAR UMA DIFERENÇA ENTRE AS MÉDIAS,CONFORME OBSERVADO NOS DADOS, SE SITUAR DENTRO DA REGIÃO CRITICA. SE CONSIDERARMOS UM NÍVEL DE SIGNIFICANCIA DE 5%, VAMOS REJEITAR A HIPOTESE NULA SE Z-SCORE > 1.96 OU SE P-VALUE < 0.05.\n",
        "\n"
      ],
      "metadata": {
        "id": "Ap8UZgHWIZDz"
      }
    },
    {
      "cell_type": "code",
      "source": [
        "media = combinar.mean()\n",
        "desvio = combinar.std()\n",
        "tam = len(combinar)\n",
        "desvio_erro = desvio/np.sqrt(tam)\n",
        "\n",
        "print(\"Erro padrao: %.3f\" % desvio_erro)\n",
        "print(\"Intervalo: [%.3f - %.3f]\" % ((media - (1.96*desvio_erro)), (media +(1.96*desvio_erro))))"
      ],
      "metadata": {
        "colab": {
          "base_uri": "https://localhost:8080/"
        },
        "id": "XV3DC-duIYcp",
        "outputId": "4248dd61-53b5-4d44-d57d-95beb9071a4d"
      },
      "execution_count": 62,
      "outputs": [
        {
          "output_type": "stream",
          "name": "stdout",
          "text": [
            "Erro padrao: 0.396\n",
            "Intervalo: [8.765 - 10.316]\n"
          ]
        }
      ]
    },
    {
      "cell_type": "markdown",
      "source": [
        "agora BitComb"
      ],
      "metadata": {
        "id": "y7LK5pmoLWGd"
      }
    },
    {
      "cell_type": "code",
      "source": [
        "mediab = bitcomb.mean()\n",
        "desviob = bitcomb.std()\n",
        "tamb = len(bitcomb)\n",
        "desvio_errob = desviob/np.sqrt(tamb)\n",
        "\n",
        "\n",
        "\n",
        "print(\"Erro padrao: %.3f\" % desvio_errob)\n",
        "print(\"Intervalo: [%.3f - %.3f]\" % ((mediab - (1.96*desvio_errob)), (mediab +(1.96*desvio_errob))))"
      ],
      "metadata": {
        "colab": {
          "base_uri": "https://localhost:8080/"
        },
        "id": "68t12Iv6LaZB",
        "outputId": "fdda08eb-cfc0-4f8c-941f-8057552cf9bf"
      },
      "execution_count": 64,
      "outputs": [
        {
          "output_type": "stream",
          "name": "stdout",
          "text": [
            "Erro: 0.360\n",
            "Intervalo: [8.038 - 9.449]\n"
          ]
        }
      ]
    },
    {
      "cell_type": "markdown",
      "source": [
        "Agora fazendo as diferenças de médias:"
      ],
      "metadata": {
        "id": "akPHIg2mOc3z"
      }
    },
    {
      "cell_type": "code",
      "source": [
        "media1 = combinar.mean()\n",
        "media2 = bitcomb.mean()\n",
        "desvio1 = combinar.std()\n",
        "desvio2 = bitcomb.std()\n",
        "tam1 = len(combinar)\n",
        "tam2 = len(bitcomb)\n",
        "desvio_erro_dif=np.sqrt((np.power(desvio2,2)/tam2) + (np.power(desvio1,2)/tam1))\n",
        "dif_media=(media1 - media2)\n",
        "\n",
        "print(\"Diferenças: %.3f\" % dif_media)\n",
        "print(\"Erro padrão da diferença: %.3f \" % desvio_erro_dif)\n",
        "print(\"As diferenças de média está %.3f vezes o erro padrao da média\" % (dif_media/desvio_erro_dif))\n"
      ],
      "metadata": {
        "colab": {
          "base_uri": "https://localhost:8080/"
        },
        "id": "yO8qpnNfOcJK",
        "outputId": "3390f651-e5f8-40be-fcc2-364292f148ec"
      },
      "execution_count": 70,
      "outputs": [
        {
          "output_type": "stream",
          "name": "stdout",
          "text": [
            "Diferenças: 0.797\n",
            "Erro padrão da diferença: 0.535 \n",
            "As diferenças de média está 1.491 vezes o erro padrao da média\n"
          ]
        }
      ]
    },
    {
      "cell_type": "markdown",
      "source": [
        "Vamos calcular o P-Value para a diferença entre as médias em termos do erro padrão. Nesse caso, por ser unilateral, não vamos multiplicar por 2. Outra diferença é que, como é unilateral para a esquerda, não fazemos (1 - CDF), pois a CDF já indica probabilidade cumulativa que vai da esquerda para direita. Porém, nesse caso temos que pegar o valor negativo.\n",
        "\n",
        "Também vamos calcular o P-Value em considerando a distribuição normal e a distribuição T-Student."
      ],
      "metadata": {
        "id": "8w2sGnqGR3_Z"
      }
    },
    {
      "cell_type": "code",
      "source": [
        "alpha=0.05\n",
        "p_value_normal = (st.norm.cdf(desvio_erro_dif))\n",
        "print(\"(Normal) valor-p= %.3f \" % p_value_normal)\n",
        "if(p_value_normal < alpha):\n",
        "  print(\"Hipótese nula pode ser rejeitada\")\n",
        "else:\n",
        "  print(\"Não podemos rejeitar a hipótese nula\")"
      ],
      "metadata": {
        "colab": {
          "base_uri": "https://localhost:8080/"
        },
        "id": "lwiI-V32R_Tl",
        "outputId": "4fe16751-06f2-43ca-8b7c-a66d0eb16c0a"
      },
      "execution_count": 72,
      "outputs": [
        {
          "output_type": "stream",
          "name": "stdout",
          "text": [
            "(Normal) valor-p= 0.704 \n",
            "Não podemos rejeitar a hipótese nula\n"
          ]
        }
      ]
    },
    {
      "cell_type": "code",
      "source": [
        "graus_liberdade = len(combinar) + len(bitcomb) - 2\n",
        "p_value_t = (st.t.cdf((-1)*desvio_erro_dif,graus_liberdade))\n",
        "print(\"(T-Test) valor-p= %.3f \" % p_value_t)"
      ],
      "metadata": {
        "colab": {
          "base_uri": "https://localhost:8080/"
        },
        "id": "x7DVo9NDSVLB",
        "outputId": "cac3efeb-ea4e-4bbd-c4ac-b74613657108"
      },
      "execution_count": 73,
      "outputs": [
        {
          "output_type": "stream",
          "name": "stdout",
          "text": [
            "(T-Test) valor-p= 0.297 \n"
          ]
        }
      ]
    },
    {
      "cell_type": "markdown",
      "source": [
        "Independente do tipo de teste (bilateral ou unilateral), o cálculo do valor-p é do mesmo jeito. O que muda é a rejeição ou não da H0. \n",
        "\n",
        "Os dois intervalos de confiança se sobrepões, e a diferença das médias é de apenas 1.491 desvios padrões. A probabilidade de se observar esses dados caso a H0 for verdadeira (M(combinar) <= M(bitcomb)) é de 0.74 (valor-p). Portanto, não podemo rejeitar a H0. Mas veja que isso não garante que H0 seja verdadeira. Além disso, H0 também considera a igualdade entre as duas."
      ],
      "metadata": {
        "id": "HRymgXIcSgSF"
      }
    }
  ]
}