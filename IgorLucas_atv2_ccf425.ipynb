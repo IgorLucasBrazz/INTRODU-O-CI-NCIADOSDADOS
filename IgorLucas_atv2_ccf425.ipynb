{
  "cells": [
    {
      "cell_type": "markdown",
      "metadata": {
        "id": "VKVeuIoh6N-S"
      },
      "source": [
        "> Introdução à Ciência dos Dados \\\n",
        "> Ciência da Computação – UFV/Florestal\n",
        "\n",
        "\n",
        "* **Nome:** %s\n",
        "* **Matrícula:**  %d\n",
        "\n",
        "# Aula Prática 02\n",
        "##  Estatística Descritiva\n",
        "\n",
        "**Objetivo:** Avaliar dados numéricos com base em cálculos estatísticos \\\n",
        "**Pré-requisitos:** Linguagem de programação Python, estatística básica \\\n",
        "**Meta:** Ao final da prática, o aluno será capaz de utilizar ferramentas de análise de dados para calcular indicadores estatísticos e comparar valores.\n",
        "\n",
        "----"
      ]
    },
    {
      "cell_type": "code",
      "source": [
        "### NÃO REMOVA ESSA CÉLULA! ####\n",
        "!pip install learntools_dados_ufv\n",
        "\n",
        "!wget https://raw.githubusercontent.com/gfviegas/CCF425-resources/master/p2/series.csv\n",
        "!wget https://raw.githubusercontent.com/gfviegas/CCF425-resources/master/p2/altura_homens.csv\n",
        "!wget https://raw.githubusercontent.com/gfviegas/CCF425-resources/master/p2/altura_mulheres.csv"
      ],
      "metadata": {
        "id": "T-n9f0IN7P13",
        "colab": {
          "base_uri": "https://localhost:8080/"
        },
        "outputId": "f21016db-314d-4b19-e365-48c37bb7366f"
      },
      "execution_count": 30,
      "outputs": [
        {
          "output_type": "stream",
          "name": "stdout",
          "text": [
            "Requirement already satisfied: learntools_dados_ufv in /usr/local/lib/python3.7/dist-packages (1.0.4)\n",
            "--2022-05-12 23:18:26--  https://raw.githubusercontent.com/gfviegas/CCF425-resources/master/p2/series.csv\n",
            "Resolving raw.githubusercontent.com (raw.githubusercontent.com)... 185.199.108.133, 185.199.109.133, 185.199.110.133, ...\n",
            "Connecting to raw.githubusercontent.com (raw.githubusercontent.com)|185.199.108.133|:443... connected.\n",
            "HTTP request sent, awaiting response... 200 OK\n",
            "Length: 43 [text/plain]\n",
            "Saving to: ‘series.csv.1’\n",
            "\n",
            "series.csv.1        100%[===================>]      43  --.-KB/s    in 0s      \n",
            "\n",
            "2022-05-12 23:18:26 (2.20 MB/s) - ‘series.csv.1’ saved [43/43]\n",
            "\n",
            "--2022-05-12 23:18:27--  https://raw.githubusercontent.com/gfviegas/CCF425-resources/master/p2/altura_homens.csv\n",
            "Resolving raw.githubusercontent.com (raw.githubusercontent.com)... 185.199.111.133, 185.199.108.133, 185.199.110.133, ...\n",
            "Connecting to raw.githubusercontent.com (raw.githubusercontent.com)|185.199.111.133|:443... connected.\n",
            "HTTP request sent, awaiting response... 200 OK\n",
            "Length: 7000 (6.8K) [text/plain]\n",
            "Saving to: ‘altura_homens.csv.1’\n",
            "\n",
            "altura_homens.csv.1 100%[===================>]   6.84K  --.-KB/s    in 0s      \n",
            "\n",
            "2022-05-12 23:18:27 (56.2 MB/s) - ‘altura_homens.csv.1’ saved [7000/7000]\n",
            "\n",
            "--2022-05-12 23:18:27--  https://raw.githubusercontent.com/gfviegas/CCF425-resources/master/p2/altura_mulheres.csv\n",
            "Resolving raw.githubusercontent.com (raw.githubusercontent.com)... 185.199.108.133, 185.199.109.133, 185.199.110.133, ...\n",
            "Connecting to raw.githubusercontent.com (raw.githubusercontent.com)|185.199.108.133|:443... connected.\n",
            "HTTP request sent, awaiting response... 200 OK\n",
            "Length: 7000 (6.8K) [text/plain]\n",
            "Saving to: ‘altura_mulheres.csv.1’\n",
            "\n",
            "altura_mulheres.csv 100%[===================>]   6.84K  --.-KB/s    in 0s      \n",
            "\n",
            "2022-05-12 23:18:27 (51.0 MB/s) - ‘altura_mulheres.csv.1’ saved [7000/7000]\n",
            "\n"
          ]
        }
      ]
    },
    {
      "cell_type": "code",
      "execution_count": 31,
      "metadata": {
        "id": "_X9J3UPRX7_6",
        "colab": {
          "base_uri": "https://localhost:8080/"
        },
        "outputId": "493258cd-cc84-4996-c4b6-d9abd533d710"
      },
      "outputs": [
        {
          "output_type": "stream",
          "name": "stderr",
          "text": [
            "WARNING:root:Ignoring repeated attempt to bind to globals\n"
          ]
        }
      ],
      "source": [
        "#### Não altere essa célula!!! ####\n",
        "import pandas as pd\n",
        "\n",
        "from learntools_dados_ufv.core import binder; binder.bind(globals())\n",
        "from learntools_dados_ufv.ccf425.pratica_2 import *"
      ]
    },
    {
      "cell_type": "markdown",
      "metadata": {
        "id": "8_kKp1SH6N-Z"
      },
      "source": [
        "# Roteiro\n",
        "\n",
        "## Leitura dos dados\n",
        "Veja os dados do arquivo `series.csv`. \n",
        "\n",
        "Use a opção `squeeze=True` para obter uma Série do arquivo e não um DataFrame (comportamento default)."
      ]
    },
    {
      "cell_type": "code",
      "execution_count": 32,
      "metadata": {
        "id": "HF4kr37Z6N-a",
        "outputId": "4fdb1439-5e30-4e48-debe-51659f82a392",
        "colab": {
          "base_uri": "https://localhost:8080/"
        }
      },
      "outputs": [
        {
          "output_type": "execute_result",
          "data": {
            "text/plain": [
              "0      13\n",
              "1       3\n",
              "2       5\n",
              "3       6\n",
              "4       7\n",
              "5       9\n",
              "6       5\n",
              "7      33\n",
              "8      67\n",
              "9     432\n",
              "10      5\n",
              "11      7\n",
              "12     35\n",
              "13     67\n",
              "14     83\n",
              "15     57\n",
              "16     88\n",
              "Name: 0, dtype: int64"
            ]
          },
          "metadata": {},
          "execution_count": 32
        }
      ],
      "source": [
        "series = pd.read_csv('./series.csv', index_col=False, header=None, squeeze=True)\n",
        "series\n"
      ]
    },
    {
      "cell_type": "code",
      "source": [
        "from google.colab import drive\n",
        "drive.mount('/content/drive')"
      ],
      "metadata": {
        "colab": {
          "base_uri": "https://localhost:8080/"
        },
        "id": "rx96BYlbacDM",
        "outputId": "9a6f987e-f23a-4cb5-8da7-f4e771365fe7"
      },
      "execution_count": 33,
      "outputs": [
        {
          "output_type": "stream",
          "name": "stdout",
          "text": [
            "Drive already mounted at /content/drive; to attempt to forcibly remount, call drive.mount(\"/content/drive\", force_remount=True).\n"
          ]
        }
      ]
    },
    {
      "cell_type": "markdown",
      "metadata": {
        "id": "Mw2yyXzu6N-b"
      },
      "source": [
        "## Explore os dados com base em estatísticas descritivas"
      ]
    },
    {
      "cell_type": "code",
      "execution_count": 34,
      "metadata": {
        "id": "g-dv3GAy6N-b",
        "outputId": "d9aed946-b10d-4dd0-f97b-55cc5c082c27",
        "colab": {
          "base_uri": "https://localhost:8080/"
        }
      },
      "outputs": [
        {
          "output_type": "stream",
          "name": "stdout",
          "text": [
            "O valor mínimo é: 3\n",
            "O valor máximo é: 432\n",
            "O valor da média é: 54.24\n",
            "O valor do desvio padrão é: 101.94\n",
            "A moda é: 0    5\n",
            "dtype: int64\n"
          ]
        }
      ],
      "source": [
        "# Mínimo\n",
        "print('O valor mínimo é: {}'.format(series.min()))\n",
        "\n",
        "# Máximo\n",
        "print('O valor máximo é: {}'.format(series.max()))\n",
        "\n",
        "# Média\n",
        "print('O valor da média é: {:.2f}'.format(series.mean()))\n",
        "\n",
        "# Desvio Padrão\n",
        "print('O valor do desvio padrão é: {:.2f}'.format(series.std()))\n",
        "\n",
        "# Moda\n",
        "print('A moda é: {}'.format(series.mode()))"
      ]
    },
    {
      "cell_type": "markdown",
      "metadata": {
        "id": "ey3yYAH46N-c"
      },
      "source": [
        "## Calcule os percentis"
      ]
    },
    {
      "cell_type": "code",
      "execution_count": 35,
      "metadata": {
        "id": "Zk2egrJu6N-c",
        "outputId": "f0591052-9ba3-4238-98d9-41a837f3e7c3",
        "colab": {
          "base_uri": "https://localhost:8080/"
        }
      },
      "outputs": [
        {
          "output_type": "stream",
          "name": "stdout",
          "text": [
            "Percentil 25: 6.00\n",
            "Percentil 50: 13.00\n",
            "Percentil 75: 67.00\n",
            "Percentil 95: 156.80\n"
          ]
        }
      ],
      "source": [
        "# Percentil 25 (1º quartil)\n",
        "print('Percentil 25: {:.2f}'.format(series.quantile(.25)))\n",
        "\n",
        "# Percentil 50 (2º quartil ou mediana)\n",
        "print('Percentil 50: {:.2f}'.format(series.quantile(.50)))\n",
        "\n",
        "# Percentil 75 (3º quartil)\n",
        "print('Percentil 75: {:.2f}'.format(series.quantile(.75)))\n",
        "\n",
        "# Percentil 95\n",
        "print('Percentil 95: {:.2f}'.format(series.quantile(.95)))"
      ]
    },
    {
      "cell_type": "markdown",
      "metadata": {
        "id": "iwYIAbay6N-d"
      },
      "source": [
        "## Calcule a tablea de frequências"
      ]
    },
    {
      "cell_type": "code",
      "execution_count": 36,
      "metadata": {
        "id": "TExAAgdU6N-d",
        "outputId": "402de26c-3f65-4f40-8dc2-e0161fbe58f3",
        "colab": {
          "base_uri": "https://localhost:8080/"
        }
      },
      "outputs": [
        {
          "output_type": "execute_result",
          "data": {
            "text/plain": [
              "5      3\n",
              "7      2\n",
              "67     2\n",
              "13     1\n",
              "3      1\n",
              "6      1\n",
              "9      1\n",
              "33     1\n",
              "432    1\n",
              "35     1\n",
              "83     1\n",
              "57     1\n",
              "88     1\n",
              "Name: 0, dtype: int64"
            ]
          },
          "metadata": {},
          "execution_count": 36
        }
      ],
      "source": [
        "series.value_counts()"
      ]
    },
    {
      "cell_type": "markdown",
      "metadata": {
        "id": "hvJMH0Rr6N-e"
      },
      "source": [
        "# Exercícios"
      ]
    },
    {
      "cell_type": "markdown",
      "metadata": {
        "id": "3LWiNtDCX7_7"
      },
      "source": [
        "## 1. Leia os arquivos `altura_homens.csv` e `altura_mulheres.csv`\n",
        "Esses arquivos contém as alturas (em cm) de 1000 homens e 1000 mulheres, respectivamente. \\\n",
        "Leia os arquivos e salve-os em uma variável contendo uma série Pandas com os dados respectivos.\n",
        "\n",
        "Armazene-os nas variáveis `men_height_series` e `women_height_series` respectivamente. \n",
        "\n",
        "Chame a função `q1.check()` no fim da célula para verificar a resposta.\n",
        "Você pode pedir dicas com `q1.hint()`"
      ]
    },
    {
      "cell_type": "code",
      "execution_count": 37,
      "metadata": {
        "id": "hbkmyaDU6N-f",
        "colab": {
          "base_uri": "https://localhost:8080/",
          "height": 497
        },
        "outputId": "87cb2bb8-5b94-4d15-9922-778a3430fcc0"
      },
      "outputs": [
        {
          "output_type": "stream",
          "name": "stdout",
          "text": [
            "Dados dos homens:\n"
          ]
        },
        {
          "output_type": "display_data",
          "data": {
            "text/plain": [
              "0      185.24\n",
              "1      172.64\n",
              "2      161.96\n",
              "3      163.68\n",
              "4      156.02\n",
              "        ...  \n",
              "995    171.91\n",
              "996    181.22\n",
              "997    162.80\n",
              "998    174.02\n",
              "999    163.19\n",
              "Name: 0, Length: 1000, dtype: float64"
            ]
          },
          "metadata": {}
        },
        {
          "output_type": "stream",
          "name": "stdout",
          "text": [
            "Dados das mulheres:\n"
          ]
        },
        {
          "output_type": "display_data",
          "data": {
            "text/plain": [
              "0      162.14\n",
              "1      146.68\n",
              "2      159.95\n",
              "3      171.98\n",
              "4      139.35\n",
              "        ...  \n",
              "995    161.83\n",
              "996    161.63\n",
              "997    162.94\n",
              "998    167.84\n",
              "999    149.25\n",
              "Name: 0, Length: 1000, dtype: float64"
            ]
          },
          "metadata": {}
        },
        {
          "output_type": "display_data",
          "data": {
            "text/plain": [
              "<IPython.core.display.Javascript object>"
            ],
            "application/javascript": [
              "parent.postMessage({\"jupyterEvent\": \"custom.exercise_interaction\", \"data\": {\"outcomeType\": 1, \"valueTowardsCompletion\": 0.06666666666666667, \"interactionType\": 1, \"questionType\": 2, \"questionId\": \"1_Q1\", \"learnToolsVersion\": \"1.0.4\", \"failureMessage\": \"\", \"exceptionClass\": \"\", \"trace\": \"\"}}, \"*\")"
            ]
          },
          "metadata": {}
        },
        {
          "output_type": "display_data",
          "data": {
            "text/plain": [
              "CORRETO: \n"
            ],
            "text/markdown": "<span style=\"color:#33cc33\">CORRETO:</span> \n\n"
          },
          "metadata": {}
        }
      ],
      "source": [
        "# q1.hint()\n",
        "\n",
        "men_height_series =  pd.read_csv(\"./altura_homens.csv\", index_col=False, header=None, squeeze=True)\n",
        "women_height_series = pd.read_csv(\"./altura_mulheres.csv\", index_col=False, header=None, squeeze=True)\n",
        "\n",
        "print('Dados dos homens:')\n",
        "display(men_height_series)\n",
        "\n",
        "print('Dados das mulheres:')\n",
        "display(women_height_series)\n",
        "\n",
        "q1.check()"
      ]
    },
    {
      "cell_type": "markdown",
      "metadata": {
        "id": "4l1slkIq6N-f"
      },
      "source": [
        "## 2. Recupere a altura mínima e máxima dos homens e das mulheres dessas amostras.\n",
        "Armazene a altura mínima e máxixma dos homens nas variáveis `men_min_height` e `men_max_height`, respectivamente. \\\n",
        "Armazene a altura mínima e máxixma das mulheres nas variáveis `women_min_height` e `women_max_height`, respectivamente. \n",
        "\n",
        "Chame a função `q2.check()` no fim da célula para verificar a resposta.\n",
        "Você pode pedir dicas com `q2.hint()`"
      ]
    },
    {
      "cell_type": "code",
      "execution_count": 38,
      "metadata": {
        "id": "zIpFkHRm6N-f",
        "colab": {
          "base_uri": "https://localhost:8080/",
          "height": 116
        },
        "outputId": "4ceae52c-a143-4360-c743-5c9f34243efd"
      },
      "outputs": [
        {
          "output_type": "stream",
          "name": "stdout",
          "text": [
            "A altura mínima dos homens é: 120.05\n",
            "A altura máxima dos homens é: 221.00\n",
            "A altura mínima das mulheres é: 132.82\n",
            "A altura máxima das mulheres é: 190.30\n"
          ]
        },
        {
          "output_type": "display_data",
          "data": {
            "text/plain": [
              "<IPython.core.display.Javascript object>"
            ],
            "application/javascript": [
              "parent.postMessage({\"jupyterEvent\": \"custom.exercise_interaction\", \"data\": {\"outcomeType\": 1, \"valueTowardsCompletion\": 0.06666666666666667, \"interactionType\": 1, \"questionType\": 2, \"questionId\": \"2_Q2\", \"learnToolsVersion\": \"1.0.4\", \"failureMessage\": \"\", \"exceptionClass\": \"\", \"trace\": \"\"}}, \"*\")"
            ]
          },
          "metadata": {}
        },
        {
          "output_type": "display_data",
          "data": {
            "text/plain": [
              "CORRETO: \n"
            ],
            "text/markdown": "<span style=\"color:#33cc33\">CORRETO:</span> \n\n"
          },
          "metadata": {}
        }
      ],
      "source": [
        "# q2.hint()\n",
        "\n",
        "men_min_height =men_height_series.min()\n",
        "men_max_height = men_height_series.max()\n",
        "women_min_height = women_height_series.min()\n",
        "women_max_height = women_height_series.max()\n",
        "\n",
        "print('A altura mínima dos homens é: {:.2f}'.format(men_min_height))\n",
        "print('A altura máxima dos homens é: {:.2f}'.format(men_max_height))\n",
        "\n",
        "print('A altura mínima das mulheres é: {:.2f}'.format(women_min_height))\n",
        "print('A altura máxima das mulheres é: {:.2f}'.format(women_max_height))\n",
        "\n",
        "q2.check()"
      ]
    },
    {
      "cell_type": "markdown",
      "metadata": {
        "id": "yR1mnJTd6N-g"
      },
      "source": [
        "## 3. Recupere a média de altura dos homens e das mulheres.\n",
        "Armazene-as nas variáveis `men_mean_height` e `women_mean_height`, respectivamente.\n",
        "\n",
        "Chame a função `q3.check()` no fim da célula para verificar a resposta.\n",
        "Você pode pedir dicas com `q3.hint()`"
      ]
    },
    {
      "cell_type": "code",
      "execution_count": 39,
      "metadata": {
        "id": "rxN-qiF46N-g",
        "colab": {
          "base_uri": "https://localhost:8080/",
          "height": 81
        },
        "outputId": "362ec6e7-1050-4af1-d9b5-8ebf73df0d0e"
      },
      "outputs": [
        {
          "output_type": "stream",
          "name": "stdout",
          "text": [
            "A altura média dos homens é: 175.06\n",
            "A altura média das mulheres é: 160.12\n"
          ]
        },
        {
          "output_type": "display_data",
          "data": {
            "text/plain": [
              "<IPython.core.display.Javascript object>"
            ],
            "application/javascript": [
              "parent.postMessage({\"jupyterEvent\": \"custom.exercise_interaction\", \"data\": {\"outcomeType\": 1, \"valueTowardsCompletion\": 0.06666666666666667, \"interactionType\": 1, \"questionType\": 2, \"questionId\": \"3_Q3\", \"learnToolsVersion\": \"1.0.4\", \"failureMessage\": \"\", \"exceptionClass\": \"\", \"trace\": \"\"}}, \"*\")"
            ]
          },
          "metadata": {}
        },
        {
          "output_type": "display_data",
          "data": {
            "text/plain": [
              "CORRETO: \n"
            ],
            "text/markdown": "<span style=\"color:#33cc33\">CORRETO:</span> \n\n"
          },
          "metadata": {}
        }
      ],
      "source": [
        "# q3.hint()\n",
        "\n",
        "men_mean_height = men_height_series.mean()\n",
        "women_mean_height = women_height_series.mean()\n",
        "\n",
        "print('A altura média dos homens é: {:.2f}'.format(men_mean_height))\n",
        "print('A altura média das mulheres é: {:.2f}'.format(women_mean_height))\n",
        "\n",
        "q3.check()"
      ]
    },
    {
      "cell_type": "markdown",
      "metadata": {
        "id": "rGOe-_M6eY7t"
      },
      "source": [
        "## 3. Recupere a média de altura dos homens e das mulheres.\n",
        "Armazene-as nas variáveis `men_mean_height` e `women_mean_height`, respectivamente.\n",
        "\n",
        "Chame a função `q3.check()` no fim da célula para verificar a resposta.\n",
        "Você pode pedir dicas com `q3.hint()`"
      ]
    },
    {
      "cell_type": "markdown",
      "metadata": {
        "id": "iUj-JKtH6N-h"
      },
      "source": [
        "## 4. Recupere a mediana de altura dos homens e das mulheres\n",
        "Armazene-as nas variáveis `men_median_height` e `women_median_height`, respectivamente.\n",
        "\n",
        "Chame a função `q4.check()` no fim da célula para verificar a resposta.\n",
        "Você pode pedir dicas com `q4.hint()`"
      ]
    },
    {
      "cell_type": "code",
      "execution_count": 40,
      "metadata": {
        "id": "gXpBOkD16N-h",
        "colab": {
          "base_uri": "https://localhost:8080/",
          "height": 81
        },
        "outputId": "0037b668-fd03-42c4-9020-a571b5c1777d"
      },
      "outputs": [
        {
          "output_type": "stream",
          "name": "stdout",
          "text": [
            "O valor da mediana da altura dos homens é: 174.57\n",
            "O valor da mediana da altura das mulheres é: 160.06\n"
          ]
        },
        {
          "output_type": "display_data",
          "data": {
            "text/plain": [
              "<IPython.core.display.Javascript object>"
            ],
            "application/javascript": [
              "parent.postMessage({\"jupyterEvent\": \"custom.exercise_interaction\", \"data\": {\"outcomeType\": 1, \"valueTowardsCompletion\": 0.06666666666666667, \"interactionType\": 1, \"questionType\": 2, \"questionId\": \"4_Q4\", \"learnToolsVersion\": \"1.0.4\", \"failureMessage\": \"\", \"exceptionClass\": \"\", \"trace\": \"\"}}, \"*\")"
            ]
          },
          "metadata": {}
        },
        {
          "output_type": "display_data",
          "data": {
            "text/plain": [
              "CORRETO: \n"
            ],
            "text/markdown": "<span style=\"color:#33cc33\">CORRETO:</span> \n\n"
          },
          "metadata": {}
        }
      ],
      "source": [
        "# q4.hint()\n",
        "\n",
        "men_median_height = men_height_series.median()\n",
        "women_median_height = women_height_series.median()\n",
        "\n",
        "print('O valor da mediana da altura dos homens é: {:.2f}'.format(men_median_height))\n",
        "print('O valor da mediana da altura das mulheres é: {:.2f}'.format(women_median_height))\n",
        "\n",
        "q4.check()"
      ]
    },
    {
      "cell_type": "markdown",
      "metadata": {
        "id": "NG4vw_Mq6N-h"
      },
      "source": [
        "## 5. Recupere o desvio padrão da altura dos homens e das mulheres\n",
        "Armazene-os nas variáveis `men_std_height` e `women_std_height`, respectivamente.\n",
        "\n",
        "Chame a função `q5.check()` no fim da célula para verificar a resposta.\n",
        "Você pode pedir dicas com `q5.hint()`"
      ]
    },
    {
      "cell_type": "code",
      "execution_count": 41,
      "metadata": {
        "id": "L6RQAmL06N-h",
        "colab": {
          "base_uri": "https://localhost:8080/",
          "height": 81
        },
        "outputId": "261437c3-c72a-4b43-9f67-0207a95f77f7"
      },
      "outputs": [
        {
          "output_type": "stream",
          "name": "stdout",
          "text": [
            "O valor do desvio padrão da altura dos homens é: 15.33\n",
            "O valor do desvio padrão da altura das mulheres é: 9.70\n"
          ]
        },
        {
          "output_type": "display_data",
          "data": {
            "text/plain": [
              "<IPython.core.display.Javascript object>"
            ],
            "application/javascript": [
              "parent.postMessage({\"jupyterEvent\": \"custom.exercise_interaction\", \"data\": {\"outcomeType\": 1, \"valueTowardsCompletion\": 0.06666666666666667, \"interactionType\": 1, \"questionType\": 2, \"questionId\": \"5_Q5\", \"learnToolsVersion\": \"1.0.4\", \"failureMessage\": \"\", \"exceptionClass\": \"\", \"trace\": \"\"}}, \"*\")"
            ]
          },
          "metadata": {}
        },
        {
          "output_type": "display_data",
          "data": {
            "text/plain": [
              "CORRETO: \n"
            ],
            "text/markdown": "<span style=\"color:#33cc33\">CORRETO:</span> \n\n"
          },
          "metadata": {}
        }
      ],
      "source": [
        "# q5.hint()\n",
        "\n",
        "men_std_height = men_height_series.std()\n",
        "women_std_height = women_height_series.std()\n",
        "\n",
        "print('O valor do desvio padrão da altura dos homens é: {:.2f}'.format(men_std_height))\n",
        "print('O valor do desvio padrão da altura das mulheres é: {:.2f}'.format(women_std_height))\n",
        "\n",
        "q5.check()"
      ]
    },
    {
      "cell_type": "markdown",
      "metadata": {
        "id": "q1LPxmkH6N-i"
      },
      "source": [
        "## 6. Recupere o percentual de homens com altura menor que 160cm\n",
        "Armazene-o na variável `men_shorter_160cm_perc`.\n",
        "\n",
        "Chame a função `q6.check()` no fim da célula para verificar a resposta.\n",
        "Você pode pedir dicas com `q6.hint(n)` onde n é o número da dica."
      ]
    },
    {
      "cell_type": "code",
      "execution_count": 42,
      "metadata": {
        "id": "-_mMFHCH6N-i",
        "colab": {
          "base_uri": "https://localhost:8080/",
          "height": 64
        },
        "outputId": "75297351-b4b1-4b57-e518-553b051955b1"
      },
      "outputs": [
        {
          "output_type": "stream",
          "name": "stdout",
          "text": [
            "15.6\n"
          ]
        },
        {
          "output_type": "display_data",
          "data": {
            "text/plain": [
              "<IPython.core.display.Javascript object>"
            ],
            "application/javascript": [
              "parent.postMessage({\"jupyterEvent\": \"custom.exercise_interaction\", \"data\": {\"outcomeType\": 1, \"valueTowardsCompletion\": 0.06666666666666667, \"interactionType\": 1, \"questionType\": 2, \"questionId\": \"6_Q6\", \"learnToolsVersion\": \"1.0.4\", \"failureMessage\": \"\", \"exceptionClass\": \"\", \"trace\": \"\"}}, \"*\")"
            ]
          },
          "metadata": {}
        },
        {
          "output_type": "display_data",
          "data": {
            "text/plain": [
              "CORRETO: \n"
            ],
            "text/markdown": "<span style=\"color:#33cc33\">CORRETO:</span> \n\n"
          },
          "metadata": {}
        }
      ],
      "source": [
        "#q6.hint()\n",
        "menor = men_height_series[men_height_series < 160]\n",
        "contador = menor.count()\n",
        "men_shorter_160cm_perc = (contador *100)/men_height_series.count()\n",
        "print(men_shorter_160cm_perc)\n",
        "\n",
        "q6.check()"
      ]
    },
    {
      "cell_type": "markdown",
      "metadata": {
        "id": "c55mkSbN6N-i"
      },
      "source": [
        "## 7. Recupere o percentual de mulheres com altura maior que 180cm\n",
        "Armazene-o na variável `women_taller_180cm_perc`.\n",
        "\n",
        "Chame a função `q7.check()` no fim da célula para verificar a resposta.\n",
        "Você pode pedir dicas com `q7.hint(n)` onde n é o número da dica."
      ]
    },
    {
      "cell_type": "code",
      "execution_count": 43,
      "metadata": {
        "id": "QOhd5ItC6N-j",
        "colab": {
          "base_uri": "https://localhost:8080/",
          "height": 64
        },
        "outputId": "cf36a211-91d7-43ee-fa49-abde5cfb91b1"
      },
      "outputs": [
        {
          "output_type": "stream",
          "name": "stdout",
          "text": [
            "2.4\n"
          ]
        },
        {
          "output_type": "display_data",
          "data": {
            "text/plain": [
              "<IPython.core.display.Javascript object>"
            ],
            "application/javascript": [
              "parent.postMessage({\"jupyterEvent\": \"custom.exercise_interaction\", \"data\": {\"outcomeType\": 1, \"valueTowardsCompletion\": 0.06666666666666667, \"interactionType\": 1, \"questionType\": 2, \"questionId\": \"7_Q7\", \"learnToolsVersion\": \"1.0.4\", \"failureMessage\": \"\", \"exceptionClass\": \"\", \"trace\": \"\"}}, \"*\")"
            ]
          },
          "metadata": {}
        },
        {
          "output_type": "display_data",
          "data": {
            "text/plain": [
              "CORRETO: \n"
            ],
            "text/markdown": "<span style=\"color:#33cc33\">CORRETO:</span> \n\n"
          },
          "metadata": {}
        }
      ],
      "source": [
        "# q7.hint()\n",
        "\n",
        "maior180 = women_height_series[women_height_series > 180]\n",
        "contador = maior180.count()\n",
        "women_taller_180cm_perc = (contador * 100)/women_height_series.count()\n",
        "print(women_taller_180cm_perc)\n",
        "\n",
        "q7.check()"
      ]
    },
    {
      "cell_type": "markdown",
      "metadata": {
        "id": "xSwdN_-m6N-j"
      },
      "source": [
        "## 8. Um homem com altura 185cm está em qual percentil?\n",
        "Armazene a resposta na variável `men_185cm_percentile`.\n",
        "\n",
        "Chame a função `q8.check()` no fim da célula para verificar a resposta.\n",
        "Você pode pedir dicas com `q8.hint(n)` onde n é o número da dica."
      ]
    },
    {
      "cell_type": "code",
      "execution_count": 44,
      "metadata": {
        "id": "4TNFrDoU6N-j",
        "colab": {
          "base_uri": "https://localhost:8080/",
          "height": 64
        },
        "outputId": "2b8aba03-22c1-4d34-d84f-fd88460b38d9"
      },
      "outputs": [
        {
          "output_type": "stream",
          "name": "stdout",
          "text": [
            "73.9\n"
          ]
        },
        {
          "output_type": "display_data",
          "data": {
            "text/plain": [
              "<IPython.core.display.Javascript object>"
            ],
            "application/javascript": [
              "parent.postMessage({\"jupyterEvent\": \"custom.exercise_interaction\", \"data\": {\"outcomeType\": 1, \"valueTowardsCompletion\": 0.06666666666666667, \"interactionType\": 1, \"questionType\": 2, \"questionId\": \"8_Q8\", \"learnToolsVersion\": \"1.0.4\", \"failureMessage\": \"\", \"exceptionClass\": \"\", \"trace\": \"\"}}, \"*\")"
            ]
          },
          "metadata": {}
        },
        {
          "output_type": "display_data",
          "data": {
            "text/plain": [
              "CORRETO: \n"
            ],
            "text/markdown": "<span style=\"color:#33cc33\">CORRETO:</span> \n\n"
          },
          "metadata": {}
        }
      ],
      "source": [
        "# q8.hint()\n",
        "\n",
        "from scipy import stats\n",
        "men_185cm_percentile = stats.percentileofscore(men_height_series, 185)\n",
        "print(men_185cm_percentile)\n",
        "\n",
        "q8.check()"
      ]
    },
    {
      "cell_type": "code",
      "source": [
        ""
      ],
      "metadata": {
        "id": "VX0k1wch1ceN"
      },
      "execution_count": 44,
      "outputs": []
    },
    {
      "cell_type": "markdown",
      "metadata": {
        "id": "BbQPQ7w86N-j"
      },
      "source": [
        "## 9. Uma mulher com altura 150cm está em qual percentil?\n",
        "Armazene a resposta na variável `women_150cm_percentile`.\n",
        "\n",
        "Chame a função `q9.check()` no fim da célula para verificar a resposta.\n",
        "Você pode pedir dicas com `q9.hint(n)` onde n é o número da dica."
      ]
    },
    {
      "cell_type": "code",
      "execution_count": 45,
      "metadata": {
        "id": "geFe-w0W6N-j",
        "colab": {
          "base_uri": "https://localhost:8080/",
          "height": 64
        },
        "outputId": "41975b43-2f08-4bae-afb2-fc2c9fa79a95"
      },
      "outputs": [
        {
          "output_type": "stream",
          "name": "stdout",
          "text": [
            "14.6\n"
          ]
        },
        {
          "output_type": "display_data",
          "data": {
            "text/plain": [
              "<IPython.core.display.Javascript object>"
            ],
            "application/javascript": [
              "parent.postMessage({\"jupyterEvent\": \"custom.exercise_interaction\", \"data\": {\"outcomeType\": 1, \"valueTowardsCompletion\": 0.06666666666666667, \"interactionType\": 1, \"questionType\": 2, \"questionId\": \"9_Q9\", \"learnToolsVersion\": \"1.0.4\", \"failureMessage\": \"\", \"exceptionClass\": \"\", \"trace\": \"\"}}, \"*\")"
            ]
          },
          "metadata": {}
        },
        {
          "output_type": "display_data",
          "data": {
            "text/plain": [
              "CORRETO: \n"
            ],
            "text/markdown": "<span style=\"color:#33cc33\">CORRETO:</span> \n\n"
          },
          "metadata": {}
        }
      ],
      "source": [
        "# q9.hint()\n",
        "from scipy import stats\n",
        "women_150cm_percentile = stats.percentileofscore(women_height_series, 150)\n",
        "print(women_150cm_percentile)\n",
        "\n",
        "q9.check()"
      ]
    },
    {
      "cell_type": "markdown",
      "metadata": {
        "id": "2zHbXl136N-k"
      },
      "source": [
        "## 10. Quais as três alturas de homens que são as mais frequentes? Quantos homens possuem, no total, essas alturas?\n",
        "Armazene a resposta das perguntas nas variáveis `men_top3_height` e `men_in_top3_height` respectivamente.\n",
        "\n",
        "Chame a função `q10.check()` no fim da célula para verificar a resposta.\n",
        "Você pode pedir dicas com `q10.hint(n)` onde n é o número da dica."
      ]
    },
    {
      "cell_type": "code",
      "execution_count": 46,
      "metadata": {
        "id": "W8J2Sjv2X7_7",
        "colab": {
          "base_uri": "https://localhost:8080/",
          "height": 133
        },
        "outputId": "d58ad4da-0f7c-4a43-b712-a9b6850df190"
      },
      "outputs": [
        {
          "output_type": "stream",
          "name": "stdout",
          "text": [
            "As alturas mais frequentes dos homens são:  169.97    3\n",
            "174.38    3\n",
            "169.17    3\n",
            "Name: 0, dtype: int64\n",
            "A quantidade de homens que possuem essas alturas são:  175058\n"
          ]
        },
        {
          "output_type": "display_data",
          "data": {
            "text/plain": [
              "<IPython.core.display.Javascript object>"
            ],
            "application/javascript": [
              "parent.postMessage({\"jupyterEvent\": \"custom.exercise_interaction\", \"data\": {\"outcomeType\": 1, \"valueTowardsCompletion\": 0.06666666666666667, \"interactionType\": 1, \"questionType\": 2, \"questionId\": \"10_Q10\", \"learnToolsVersion\": \"1.0.4\", \"failureMessage\": \"\", \"exceptionClass\": \"\", \"trace\": \"\"}}, \"*\")"
            ]
          },
          "metadata": {}
        },
        {
          "output_type": "display_data",
          "data": {
            "text/plain": [
              "CORRETO: \n"
            ],
            "text/markdown": "<span style=\"color:#33cc33\">CORRETO:</span> \n\n"
          },
          "metadata": {}
        }
      ],
      "source": [
        "# q10.hint()\n",
        "\n",
        "\n",
        "men_top3_height = men_height_series.value_counts().head(3)\n",
        "men_in_top3_height =int(men_height_series.sum())\n",
        "\n",
        "print('As alturas mais frequentes dos homens são: ', men_top3_height)\n",
        "print('A quantidade de homens que possuem essas alturas são: ', int(men_in_top3_height))\n",
        "\n",
        "q10.check()"
      ]
    },
    {
      "cell_type": "markdown",
      "metadata": {
        "id": "l6UIY12o6N-k"
      },
      "source": [
        "## 11. Uma mulher com altura 185cm está distante quantos desvios padrões da média das mulheres? E uma de 145cm?\n",
        "Armazene as respostas das perguntas nas variáveis `women_185cm_std_distance` e `women_145cm_std_distance` respectivamente.\n",
        "\n",
        "Chame a função `q11.check()` no fim da célula para verificar a resposta.\n",
        "Você pode pedir dicas com `q11.hint(n)` onde n é o número da dica."
      ]
    },
    {
      "cell_type": "code",
      "execution_count": 47,
      "metadata": {
        "id": "-OGk4gRy6N-k",
        "colab": {
          "base_uri": "https://localhost:8080/",
          "height": 110
        },
        "outputId": "7e68f78b-2b98-464d-94d3-aa9035ef6b32"
      },
      "outputs": [
        {
          "output_type": "display_data",
          "data": {
            "text/plain": [
              "<IPython.core.display.Javascript object>"
            ],
            "application/javascript": [
              "parent.postMessage({\"jupyterEvent\": \"custom.exercise_interaction\", \"data\": {\"interactionType\": 2, \"questionType\": 2, \"questionId\": \"11_Q11\", \"learnToolsVersion\": \"1.0.4\", \"valueTowardsCompletion\": 0.0, \"failureMessage\": \"\", \"exceptionClass\": \"\", \"trace\": \"\", \"outcomeType\": 4}}, \"*\")"
            ]
          },
          "metadata": {}
        },
        {
          "output_type": "display_data",
          "data": {
            "text/plain": [
              "Dica 2: Pesquise sobre a função `mean` da classe Series do Pandas para extrair a média"
            ],
            "text/markdown": "<span style=\"color:#3366cc\">Dica 2:</span> Pesquise sobre a função `mean` da classe Series do Pandas para extrair a média"
          },
          "metadata": {}
        },
        {
          "output_type": "stream",
          "name": "stdout",
          "text": [
            "A quantidade de desvios padrões distante da média de uma mulher de 185cm é:  2.564695086782181\n",
            "A quantidade de desvios padrões distante da média de uma mulher de 145cm é:  1.5580637393733114\n"
          ]
        },
        {
          "output_type": "display_data",
          "data": {
            "text/plain": [
              "<IPython.core.display.Javascript object>"
            ],
            "application/javascript": [
              "parent.postMessage({\"jupyterEvent\": \"custom.exercise_interaction\", \"data\": {\"outcomeType\": 1, \"valueTowardsCompletion\": 0.06666666666666667, \"interactionType\": 1, \"questionType\": 2, \"questionId\": \"11_Q11\", \"learnToolsVersion\": \"1.0.4\", \"failureMessage\": \"\", \"exceptionClass\": \"\", \"trace\": \"\"}}, \"*\")"
            ]
          },
          "metadata": {}
        },
        {
          "output_type": "display_data",
          "data": {
            "text/plain": [
              "CORRETO: \n"
            ],
            "text/markdown": "<span style=\"color:#33cc33\">CORRETO:</span> \n\n"
          },
          "metadata": {}
        }
      ],
      "source": [
        "q11.hint(2)\n",
        "from scipy import stats\n",
        "media = women_height_series.mean()\n",
        "women_std_height = women_height_series.std()\n",
        "women_185cm_std_distance =  (185-media)/women_std_height\n",
        "women_145cm_std_distance =  (media-145)/women_std_height\n",
        "                             \n",
        "\n",
        "print('A quantidade de desvios padrões distante da média de uma mulher de 185cm é: ',women_185cm_std_distance )\n",
        "print('A quantidade de desvios padrões distante da média de uma mulher de 145cm é: ',women_145cm_std_distance)\n",
        "\n",
        "q11.check()"
      ]
    },
    {
      "cell_type": "markdown",
      "metadata": {
        "id": "-UYhCR6h6N-k"
      },
      "source": [
        "## 12.\n",
        "É possível afirmar com determinado grau de confiança que uma pessoa com altura 150cm é um homem ou uma mulher?\n",
        "- E uma pessoa com altura 190cm?\n",
        "- E uma pessoa com altura 165cm?\n",
        "\n",
        "\n",
        "Esta questão não possui `check`.\n",
        "Mas você pode pedir dica com `q12.hint()`."
      ]
    },
    {
      "cell_type": "markdown",
      "metadata": {
        "id": "cwPzokLT6N-l"
      },
      "source": [
        "### Resposta:\n",
        "\n",
        "Não é possivel saber se uma pessoa com altura 150cm, 165cm e 190cm é um homem ou uma mulher, pois quanto para homem quanto para mulher o desvio está elevado. "
      ]
    },
    {
      "cell_type": "code",
      "execution_count": 48,
      "metadata": {
        "id": "yuarcBQW6N-l"
      },
      "outputs": [],
      "source": [
        "#q12.hint()"
      ]
    },
    {
      "cell_type": "markdown",
      "metadata": {
        "id": "pIjaC7iX6N-l"
      },
      "source": [
        "## 13. As alturas dos homens e mulheres seguem uma distribuição Normal?\n",
        "Justifique a sua resposta com evidências.\n",
        "\n",
        "Esta questão não possui `check`.\n",
        "Mas você pode pedir dica com `q13.hint()`."
      ]
    },
    {
      "cell_type": "markdown",
      "metadata": {
        "id": "tK-zrYat6N-l"
      },
      "source": [
        "### Resposta:\n",
        "\n",
        "Sim, como mostra nos graficos abaixo as alturas tem uma grande chance de seguir a distribuição normal."
      ]
    },
    {
      "cell_type": "code",
      "execution_count": 54,
      "metadata": {
        "id": "vQwdE6_c6N-l",
        "colab": {
          "base_uri": "https://localhost:8080/",
          "height": 312
        },
        "outputId": "eb8f06e1-d4ba-4435-b2e9-1d8317867bf9"
      },
      "outputs": [
        {
          "output_type": "display_data",
          "data": {
            "text/plain": [
              "<IPython.core.display.Javascript object>"
            ],
            "application/javascript": [
              "parent.postMessage({\"jupyterEvent\": \"custom.exercise_interaction\", \"data\": {\"interactionType\": 2, \"questionType\": 4, \"questionId\": \"13_Q13\", \"learnToolsVersion\": \"1.0.4\", \"valueTowardsCompletion\": 0.0, \"failureMessage\": \"\", \"exceptionClass\": \"\", \"trace\": \"\", \"outcomeType\": 4}}, \"*\")"
            ]
          },
          "metadata": {}
        },
        {
          "output_type": "display_data",
          "data": {
            "text/plain": [
              "Dica: Use algum método de teste de normalidade. O mais simples pode ser o mais elegante!"
            ],
            "text/markdown": "<span style=\"color:#3366cc\">Dica:</span> Use algum método de teste de normalidade. O mais simples pode ser o mais elegante!"
          },
          "metadata": {}
        },
        {
          "output_type": "execute_result",
          "data": {
            "text/plain": [
              "<matplotlib.axes._subplots.AxesSubplot at 0x7f9449fce5d0>"
            ]
          },
          "metadata": {},
          "execution_count": 54
        },
        {
          "output_type": "display_data",
          "data": {
            "text/plain": [
              "<Figure size 432x288 with 1 Axes>"
            ],
            "image/png": "[encoded data removed]"
          },
          "metadata": {
            "needs_background": "light"
          }
        }
      ],
      "source": [
        "from scipy import stats\n",
        "q13.hint()\n",
        "men_height_series.plot(kind='hist')\n"
      ]
    },
    {
      "cell_type": "markdown",
      "metadata": {
        "id": "-JAYWMS86N-m"
      },
      "source": [
        "## 14. Para que serve a função “describe()” de uma Series?\n",
        "Justifique a sua resposta com evidências.\n",
        "\n",
        "Esta questão não possui `check`.\n",
        "Mas você pode pedir dica com `q14.hint()`."
      ]
    },
    {
      "cell_type": "markdown",
      "metadata": {
        "id": "YBedgadj6N-m"
      },
      "source": [
        "### Resposta:\n",
        "\n",
        "A função \"describe()\" ela dá um resumo estatistisco desritivo, mostrando a quantidade de valores, média, desvio padrão, valor minimo e máximo e quartis"
      ]
    },
    {
      "cell_type": "code",
      "execution_count": null,
      "metadata": {
        "id": "4wGK0w2q6N-m"
      },
      "outputs": [],
      "source": [
        "# q14.hint()"
      ]
    },
    {
      "cell_type": "markdown",
      "metadata": {
        "id": "4ejAqiK26N-m"
      },
      "source": [
        "## 15. Para que serve a função \"unique()” de uma Series?\n",
        "Justifique a sua resposta com evidências.\n",
        "\n",
        "Esta questão não possui `check`.\n",
        "Mas você pode pedir dica com `q15.hint()`."
      ]
    },
    {
      "cell_type": "markdown",
      "metadata": {
        "id": "4kpaRk-m6N-m"
      },
      "source": [
        "### Resposta:\n",
        "\n",
        "O unique() dá um tuple de valores únicos ordenados no dado array de entradas e um array de indices da primeira ocorrência de cada valor único."
      ]
    },
    {
      "cell_type": "code",
      "execution_count": null,
      "metadata": {
        "id": "-XNk--_A6N-m"
      },
      "outputs": [],
      "source": [
        "# q15.hint()"
      ]
    }
  ],
  "metadata": {
    "colab": {
      "name": "IgorLucas_ccf425.ipynb",
      "provenance": []
    },
    "kernelspec": {
      "display_name": "Python 3",
      "language": "python",
      "name": "python3"
    },
    "language_info": {
      "codemirror_mode": {
        "name": "ipython",
        "version": 3
      },
      "file_extension": ".py",
      "mimetype": "text/x-python",
      "name": "python",
      "nbconvert_exporter": "python",
      "pygments_lexer": "ipython3",
      "version": "3.9.12"
    }
  },
  "nbformat": 4,
  "nbformat_minor": 0
}