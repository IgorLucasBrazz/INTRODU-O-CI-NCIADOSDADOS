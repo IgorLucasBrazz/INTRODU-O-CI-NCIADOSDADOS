{
  "cells": [
    {
      "cell_type": "markdown",
      "metadata": {
        "id": "v9b5EcQz_YB5"
      },
      "source": [
        "> Introdução à Ciência dos Dados \\\n",
        "> Ciência da Computação – UFV/Florestal\n",
        "\n",
        "\n",
        "* **Nome: Igor Lucas dos Santos Braz**\n",
        "* **Matrícula: 3865** \n",
        "\n",
        "# Aula Prática 01\n",
        "##  Conhecendo o Ambiente e Manipulando Estruturas de Uma Dimensão\n",
        "\n",
        "**Objetivo:** Conhecer o ambiente de desenvolvimento \\\n",
        "**Pré-requisitos:** Linguagem de programação Python \\\n",
        "**Meta:** Ao final da prática, o aluno será capaz de iniciar o ambiente de desenvolvimento e executar comandos na linguagem Python para manipular uma estrutura de dados de uma dimensão.\n",
        "\n",
        "----"
      ]
    },
    {
      "cell_type": "markdown",
      "metadata": {
        "id": "OVf4E3va_YB-"
      },
      "source": [
        "## Introdução\n",
        "\n",
        "A ferramenta de desenvolvimento a ser utilizada é chamada Jupyter Notebook. Com ela, é possível executar comandos para análises de dados isoladamente, sem precisar executar todo o código sempre que for preciso fazer algum ajuste. Você pode instalar localmente na sua máquina o [Jupyter Notebook](https://jupyter.org) ou utilizar o [Google Colab](https://colab.research.google.com).\n",
        "\n",
        "A principal API de desenvolvimento que será utilizada é chamada de [Pandas](https://pandas.pydata.org). Com ela, é possível manipular estruturas de dados complexas para análises de dados.\n",
        "\n",
        "Dentro da API Pandas, uma estrutura 1-dimensional é a Series. Uma Serie é similar a um arranjo nas linguagens de programação, com algumas características particulares que a torna mais poderosa que as estruturas de arranjos e listas tradicionais.\n",
        "\n",
        "Seguindo o roteiro abaixo, você deverá utilizar o Jupyter Notebook ou Google Colab para manipular algumas estruturas do tipo Series.\n",
        "\n",
        "Para instalar as ferramentas e as bibliotecas necessárias, você pode seguir o tutorial que está no PVANet.\n"
      ]
    },
    {
      "cell_type": "code",
      "source": [
        "### NÃO REMOVA ESSA CÉLULA! ####\n",
        "!pip install learntools_dados_ufv"
      ],
      "metadata": {
        "colab": {
          "base_uri": "https://localhost:8080/"
        },
        "id": "W09QN2cs_cQ_",
        "outputId": "870855db-3a3f-4084-aa38-f6577cacfc35"
      },
      "execution_count": null,
      "outputs": [
        {
          "output_type": "stream",
          "name": "stdout",
          "text": [
            "Collecting learntools_dados_ufv\n",
            "  Downloading learntools_dados_ufv-1.0.4.tar.gz (23 kB)\n",
            "Building wheels for collected packages: learntools-dados-ufv\n",
            "  Building wheel for learntools-dados-ufv (setup.py) ... \u001b[?25l\u001b[?25hdone\n",
            "  Created wheel for learntools-dados-ufv: filename=learntools_dados_ufv-1.0.4-py3-none-any.whl size=28521 sha256=1c18f9a008dcd0bc837e42d7141d4382234188ead61d9c559be7ff88ab3a22d7\n",
            "  Stored in directory: /root/.cache/pip/wheels/da/a6/8a/0cb51a7c24450fe832e0d5b5d7985631f9deb3d8db406a5129\n",
            "Successfully built learntools-dados-ufv\n",
            "Installing collected packages: learntools-dados-ufv\n",
            "Successfully installed learntools-dados-ufv-1.0.4\n"
          ]
        }
      ]
    },
    {
      "cell_type": "code",
      "execution_count": null,
      "metadata": {
        "id": "_X9J3UPRX7_6"
      },
      "outputs": [],
      "source": [
        "#### Não altere essa célula!!! ####\n",
        "import pandas as pd\n",
        "import random\n",
        "\n",
        "from learntools_dados_ufv.core import binder; binder.bind(globals())\n",
        "from learntools_dados_ufv.ccf425.pratica_1 import *"
      ]
    },
    {
      "cell_type": "markdown",
      "metadata": {
        "id": "3LWiNtDCX7_7"
      },
      "source": [
        "## 1. Gere uma Serie com 500 valores inteiros aleatórios entre -1000 e 1000\n",
        "Armazene-o na variável `series`. \n",
        "\n",
        "Chame a função `q1.check()` no fim da célula para verificar a resposta.\n",
        "Você pode pedir dicas com `q1.hint()`"
      ]
    },
    {
      "cell_type": "code",
      "execution_count": null,
      "metadata": {
        "id": "TxEmCjTx_YCB",
        "colab": {
          "base_uri": "https://localhost:8080/",
          "height": 255
        },
        "outputId": "7f566a98-f096-4966-ac4f-b2c6fba6ab03"
      },
      "outputs": [
        {
          "output_type": "stream",
          "name": "stdout",
          "text": [
            "0      617\n",
            "1     -548\n",
            "2     -915\n",
            "3     -310\n",
            "4      780\n",
            "      ... \n",
            "495     19\n",
            "496   -380\n",
            "497    410\n",
            "498   -633\n",
            "499    842\n",
            "Length: 500, dtype: int64\n"
          ]
        },
        {
          "output_type": "display_data",
          "data": {
            "text/plain": [
              "<IPython.core.display.Javascript object>"
            ],
            "application/javascript": [
              "parent.postMessage({\"jupyterEvent\": \"custom.exercise_interaction\", \"data\": {\"outcomeType\": 1, \"valueTowardsCompletion\": 0.1, \"interactionType\": 1, \"questionType\": 2, \"questionId\": \"1_Q1\", \"learnToolsVersion\": \"1.0.4\", \"failureMessage\": \"\", \"exceptionClass\": \"\", \"trace\": \"\"}}, \"*\")"
            ]
          },
          "metadata": {}
        },
        {
          "output_type": "display_data",
          "data": {
            "text/plain": [
              "CORRETO: \n"
            ],
            "text/markdown": "<span style=\"color:#33cc33\">CORRETO:</span> \n\n"
          },
          "metadata": {}
        }
      ],
      "source": [
        "# q1.hint()\n",
        "import random\n",
        "\n",
        "rand = random.sample(range(-1000,1000), 500)\n",
        "series = pd.Series(rand)\n",
        "print(series)\n",
        "\n",
        "q1.check()"
      ]
    },
    {
      "cell_type": "markdown",
      "metadata": {
        "id": "pp_1vrN-_YCB"
      },
      "source": [
        "## 2. Recupere o maior valor da Série\n",
        "Armazene-o na variável `series_max`. \n",
        "\n",
        "Chame a função `q2.check()` no fim da célula para verificar a resposta.\n",
        "Você pode pedir dicas com `q2.hint()`"
      ]
    },
    {
      "cell_type": "code",
      "execution_count": null,
      "metadata": {
        "id": "oW9iunTR_YCC",
        "colab": {
          "base_uri": "https://localhost:8080/",
          "height": 64
        },
        "outputId": "2d6ca265-000f-45a9-ff8f-42fd53effced"
      },
      "outputs": [
        {
          "output_type": "stream",
          "name": "stdout",
          "text": [
            "997\n"
          ]
        },
        {
          "output_type": "display_data",
          "data": {
            "text/plain": [
              "<IPython.core.display.Javascript object>"
            ],
            "application/javascript": [
              "parent.postMessage({\"jupyterEvent\": \"custom.exercise_interaction\", \"data\": {\"outcomeType\": 1, \"valueTowardsCompletion\": 0.1, \"interactionType\": 1, \"questionType\": 2, \"questionId\": \"2_Q2\", \"learnToolsVersion\": \"1.0.4\", \"failureMessage\": \"\", \"exceptionClass\": \"\", \"trace\": \"\"}}, \"*\")"
            ]
          },
          "metadata": {}
        },
        {
          "output_type": "display_data",
          "data": {
            "text/plain": [
              "CORRETO: \n"
            ],
            "text/markdown": "<span style=\"color:#33cc33\">CORRETO:</span> \n\n"
          },
          "metadata": {}
        }
      ],
      "source": [
        "# q2.hint()\n",
        "\n",
        "series_max = max(series)\n",
        "print(series_max)\n",
        "\n",
        "q2.check()"
      ]
    },
    {
      "cell_type": "markdown",
      "metadata": {
        "id": "3VTP92eW_YCD"
      },
      "source": [
        "## 3. Recupere o menor valor da Série\n",
        "Armazene-o na variável `series_min`.\n",
        "\n",
        "Chame a função `q3.check()` no fim da célula para verificar a resposta.\n",
        "Você pode pedir dicas com `q3.hint()`"
      ]
    },
    {
      "cell_type": "code",
      "execution_count": null,
      "metadata": {
        "id": "7FK2oejP_YCE",
        "colab": {
          "base_uri": "https://localhost:8080/",
          "height": 64
        },
        "outputId": "c66ebacf-76f7-4073-f9e3-3f3662c31089"
      },
      "outputs": [
        {
          "output_type": "stream",
          "name": "stdout",
          "text": [
            "-995\n"
          ]
        },
        {
          "output_type": "display_data",
          "data": {
            "text/plain": [
              "<IPython.core.display.Javascript object>"
            ],
            "application/javascript": [
              "parent.postMessage({\"jupyterEvent\": \"custom.exercise_interaction\", \"data\": {\"outcomeType\": 1, \"valueTowardsCompletion\": 0.1, \"interactionType\": 1, \"questionType\": 2, \"questionId\": \"3_Q3\", \"learnToolsVersion\": \"1.0.4\", \"failureMessage\": \"\", \"exceptionClass\": \"\", \"trace\": \"\"}}, \"*\")"
            ]
          },
          "metadata": {}
        },
        {
          "output_type": "display_data",
          "data": {
            "text/plain": [
              "CORRETO: \n"
            ],
            "text/markdown": "<span style=\"color:#33cc33\">CORRETO:</span> \n\n"
          },
          "metadata": {}
        }
      ],
      "source": [
        "# q3.hint()\n",
        "\n",
        "series_min = min(series)\n",
        "print(series_min)\n",
        "\n",
        "q3.check()"
      ]
    },
    {
      "cell_type": "markdown",
      "metadata": {
        "id": "zKImcTgi_YCF"
      },
      "source": [
        "## 4. Recupere somente os valores positivos da Série\n",
        "Armazene-os na variável `series_positives`.\n",
        "\n",
        "Chame a função `q4.check()` no fim da célula para verificar a resposta.\n",
        "Você pode pedir dicas com `q4.hint()`"
      ]
    },
    {
      "cell_type": "code",
      "execution_count": null,
      "metadata": {
        "id": "Zq6yBor2_YCF",
        "colab": {
          "base_uri": "https://localhost:8080/",
          "height": 255
        },
        "outputId": "dd7b89f2-24d9-4372-84cb-1d969f28e44d"
      },
      "outputs": [
        {
          "output_type": "stream",
          "name": "stdout",
          "text": [
            "0      617\n",
            "4      780\n",
            "5      956\n",
            "6      280\n",
            "8      340\n",
            "      ... \n",
            "490    831\n",
            "494    833\n",
            "495     19\n",
            "497    410\n",
            "499    842\n",
            "Length: 253, dtype: int64\n"
          ]
        },
        {
          "output_type": "display_data",
          "data": {
            "text/plain": [
              "<IPython.core.display.Javascript object>"
            ],
            "application/javascript": [
              "parent.postMessage({\"jupyterEvent\": \"custom.exercise_interaction\", \"data\": {\"outcomeType\": 1, \"valueTowardsCompletion\": 0.1, \"interactionType\": 1, \"questionType\": 2, \"questionId\": \"4_Q4\", \"learnToolsVersion\": \"1.0.4\", \"failureMessage\": \"\", \"exceptionClass\": \"\", \"trace\": \"\"}}, \"*\")"
            ]
          },
          "metadata": {}
        },
        {
          "output_type": "display_data",
          "data": {
            "text/plain": [
              "CORRETO: \n"
            ],
            "text/markdown": "<span style=\"color:#33cc33\">CORRETO:</span> \n\n"
          },
          "metadata": {}
        }
      ],
      "source": [
        "# q4.hint()\n",
        "\n",
        "series_positives = series[series>=0]\n",
        "print(series_positives)\n",
        "\n",
        "q4.check()"
      ]
    },
    {
      "cell_type": "markdown",
      "metadata": {
        "id": "aZRr9TZL_YCG"
      },
      "source": [
        "## 5. Recupere somente os valores ímpares da Série\n",
        "Armazene-os na variável `series_odds`.\n",
        "\n",
        "Chame a função `q5.check()` no fim da célula para verificar a resposta.\n",
        "Você pode pedir dicas com `q5.hint()`"
      ]
    },
    {
      "cell_type": "code",
      "execution_count": null,
      "metadata": {
        "id": "s5XgfoOv_YCG",
        "colab": {
          "base_uri": "https://localhost:8080/",
          "height": 255
        },
        "outputId": "7d3ae647-7b67-490b-b150-69c08505c0d9"
      },
      "outputs": [
        {
          "output_type": "stream",
          "name": "stdout",
          "text": [
            "0      617\n",
            "2     -915\n",
            "7      -41\n",
            "10     527\n",
            "12     843\n",
            "      ... \n",
            "489     67\n",
            "490    831\n",
            "494    833\n",
            "495     19\n",
            "498   -633\n",
            "Length: 247, dtype: int64\n"
          ]
        },
        {
          "output_type": "display_data",
          "data": {
            "text/plain": [
              "<IPython.core.display.Javascript object>"
            ],
            "application/javascript": [
              "parent.postMessage({\"jupyterEvent\": \"custom.exercise_interaction\", \"data\": {\"outcomeType\": 1, \"valueTowardsCompletion\": 0.1, \"interactionType\": 1, \"questionType\": 2, \"questionId\": \"5_Q5\", \"learnToolsVersion\": \"1.0.4\", \"failureMessage\": \"\", \"exceptionClass\": \"\", \"trace\": \"\"}}, \"*\")"
            ]
          },
          "metadata": {}
        },
        {
          "output_type": "display_data",
          "data": {
            "text/plain": [
              "CORRETO: \n"
            ],
            "text/markdown": "<span style=\"color:#33cc33\">CORRETO:</span> \n\n"
          },
          "metadata": {}
        }
      ],
      "source": [
        "# q5.hint()\n",
        "\n",
        "series_odds = series[series %2 !=0]\n",
        "print(series_odds)\n",
        "\n",
        "q5.check()"
      ]
    },
    {
      "cell_type": "markdown",
      "metadata": {
        "id": "KMz-69mj_YCH"
      },
      "source": [
        "## 6. Recupere somente os valores das posições/índices de 50 a 100 (inclusive) da Série\n",
        "Armazene-os na variável `series_range`.\n",
        "\n",
        "Chame a função `q6.check()` no fim da célula para verificar a resposta.\n",
        "Você pode pedir dicas com `q6.hint(n)` onde n é o número da dica."
      ]
    },
    {
      "cell_type": "code",
      "execution_count": null,
      "metadata": {
        "id": "z4DhEQcl_YCH",
        "colab": {
          "base_uri": "https://localhost:8080/",
          "height": 949
        },
        "outputId": "ea95ed5e-0cb2-4ce2-da1f-79f5871b4af6"
      },
      "outputs": [
        {
          "output_type": "stream",
          "name": "stdout",
          "text": [
            "50     934\n",
            "51    -663\n",
            "52    -680\n",
            "53     613\n",
            "54     629\n",
            "55    -625\n",
            "56    -379\n",
            "57    -937\n",
            "58    -974\n",
            "59    -828\n",
            "60     970\n",
            "61     953\n",
            "62    -155\n",
            "63     824\n",
            "64     709\n",
            "65     669\n",
            "66    -295\n",
            "67     -84\n",
            "68    -832\n",
            "69    -187\n",
            "70     505\n",
            "71     589\n",
            "72    -358\n",
            "73     908\n",
            "74     111\n",
            "75    -432\n",
            "76     230\n",
            "77    -278\n",
            "78    -283\n",
            "79    -963\n",
            "80    -375\n",
            "81     -43\n",
            "82     226\n",
            "83    -992\n",
            "84     343\n",
            "85     696\n",
            "86    -192\n",
            "87     131\n",
            "88     836\n",
            "89     117\n",
            "90     -35\n",
            "91     949\n",
            "92    -844\n",
            "93    -917\n",
            "94     874\n",
            "95    -306\n",
            "96     914\n",
            "97     258\n",
            "98     -72\n",
            "99     878\n",
            "100    148\n",
            "dtype: int64\n"
          ]
        },
        {
          "output_type": "display_data",
          "data": {
            "text/plain": [
              "<IPython.core.display.Javascript object>"
            ],
            "application/javascript": [
              "parent.postMessage({\"jupyterEvent\": \"custom.exercise_interaction\", \"data\": {\"outcomeType\": 1, \"valueTowardsCompletion\": 0.1, \"interactionType\": 1, \"questionType\": 2, \"questionId\": \"6_Q6\", \"learnToolsVersion\": \"1.0.4\", \"failureMessage\": \"\", \"exceptionClass\": \"\", \"trace\": \"\"}}, \"*\")"
            ]
          },
          "metadata": {}
        },
        {
          "output_type": "display_data",
          "data": {
            "text/plain": [
              "CORRETO"
            ],
            "text/markdown": "<span style=\"color:#33cc33\">CORRETO</span>"
          },
          "metadata": {}
        }
      ],
      "source": [
        "# q6.hint()\n",
        "\n",
        "series_range = series[50:101]\n",
        "print(series_range)\n",
        "\n",
        "q6.check()"
      ]
    },
    {
      "cell_type": "markdown",
      "metadata": {
        "id": "PUJQdeCM_YCH"
      },
      "source": [
        "## 7. Recupere a quantidade de valores pares da Série\n",
        "Armazene-o na variável `series_even_size`.\n",
        "\n",
        "Chame a função `q7.check()` no fim da célula para verificar a resposta.\n",
        "Você pode pedir dicas com `q7.hint(n)` onde n é o número da dica."
      ]
    },
    {
      "cell_type": "code",
      "execution_count": null,
      "metadata": {
        "id": "I-8dk7HC_YCI",
        "colab": {
          "base_uri": "https://localhost:8080/",
          "height": 64
        },
        "outputId": "caaa0ae1-c082-4571-a43b-6fa20c0a58ff"
      },
      "outputs": [
        {
          "output_type": "stream",
          "name": "stdout",
          "text": [
            "253\n"
          ]
        },
        {
          "output_type": "display_data",
          "data": {
            "text/plain": [
              "<IPython.core.display.Javascript object>"
            ],
            "application/javascript": [
              "parent.postMessage({\"jupyterEvent\": \"custom.exercise_interaction\", \"data\": {\"outcomeType\": 1, \"valueTowardsCompletion\": 0.1, \"interactionType\": 1, \"questionType\": 2, \"questionId\": \"7_Q7\", \"learnToolsVersion\": \"1.0.4\", \"failureMessage\": \"\", \"exceptionClass\": \"\", \"trace\": \"\"}}, \"*\")"
            ]
          },
          "metadata": {}
        },
        {
          "output_type": "display_data",
          "data": {
            "text/plain": [
              "CORRETO: \n"
            ],
            "text/markdown": "<span style=\"color:#33cc33\">CORRETO:</span> \n\n"
          },
          "metadata": {}
        }
      ],
      "source": [
        "# q7.hint()\n",
        "\n",
        "series_even_size = series[series%2 == 0].size\n",
        "print(series_even_size)\n",
        "\n",
        "q7.check()"
      ]
    },
    {
      "cell_type": "markdown",
      "metadata": {
        "id": "Bong0Fb2_YCI"
      },
      "source": [
        "## 8. Recupere a quantidade de valores da Série maiores que 500\n",
        "Armazene-o na variável `series_high_values_size`.\n",
        "\n",
        "Chame a função `q8.check()` no fim da célula para verificar a resposta.\n",
        "Você pode pedir dicas com `q8.hint()` onde n é o número da dica."
      ]
    },
    {
      "cell_type": "code",
      "execution_count": null,
      "metadata": {
        "id": "jRq5nWj5_YCI",
        "colab": {
          "base_uri": "https://localhost:8080/",
          "height": 64
        },
        "outputId": "59d7e411-129c-4f0c-f558-fcbb12df7abe"
      },
      "outputs": [
        {
          "output_type": "stream",
          "name": "stdout",
          "text": [
            "132\n"
          ]
        },
        {
          "output_type": "display_data",
          "data": {
            "text/plain": [
              "<IPython.core.display.Javascript object>"
            ],
            "application/javascript": [
              "parent.postMessage({\"jupyterEvent\": \"custom.exercise_interaction\", \"data\": {\"outcomeType\": 1, \"valueTowardsCompletion\": 0.1, \"interactionType\": 1, \"questionType\": 2, \"questionId\": \"8_Q8\", \"learnToolsVersion\": \"1.0.4\", \"failureMessage\": \"\", \"exceptionClass\": \"\", \"trace\": \"\"}}, \"*\")"
            ]
          },
          "metadata": {}
        },
        {
          "output_type": "display_data",
          "data": {
            "text/plain": [
              "CORRETO: \n"
            ],
            "text/markdown": "<span style=\"color:#33cc33\">CORRETO:</span> \n\n"
          },
          "metadata": {}
        }
      ],
      "source": [
        "# q8.hint()\n",
        "\n",
        "series_high_values_size = series[series > 500].size\n",
        "print(series_high_values_size)\n",
        "\n",
        "q8.check()"
      ]
    },
    {
      "cell_type": "markdown",
      "metadata": {
        "id": "9fqTzqCr_YCJ"
      },
      "source": [
        "## 9. Recupere os valores simultaneamente maiores que 500 e menores que 700 da Série\n",
        "Armazene-o na variável `series_subset_values`.\n",
        "\n",
        "Chame a função `q9.check()` no fim da célula para verificar a resposta.\n",
        "Você pode pedir dicas com `q9.hint()` onde n é o número da dica."
      ]
    },
    {
      "cell_type": "code",
      "execution_count": null,
      "metadata": {
        "id": "MTt9Txfh_YCJ",
        "colab": {
          "base_uri": "https://localhost:8080/",
          "height": 983
        },
        "outputId": "086d22f3-49ee-435a-abc2-a7ff8b5e095b"
      },
      "outputs": [
        {
          "output_type": "stream",
          "name": "stdout",
          "text": [
            "0      617\n",
            "10     527\n",
            "29     558\n",
            "31     597\n",
            "32     608\n",
            "34     529\n",
            "37     599\n",
            "42     581\n",
            "48     506\n",
            "49     623\n",
            "53     613\n",
            "54     629\n",
            "65     669\n",
            "70     505\n",
            "71     589\n",
            "85     696\n",
            "106    587\n",
            "139    567\n",
            "141    539\n",
            "159    626\n",
            "161    503\n",
            "185    508\n",
            "191    670\n",
            "192    612\n",
            "198    569\n",
            "200    615\n",
            "202    686\n",
            "205    674\n",
            "219    544\n",
            "223    646\n",
            "236    699\n",
            "246    662\n",
            "278    683\n",
            "293    517\n",
            "332    510\n",
            "337    607\n",
            "348    533\n",
            "349    530\n",
            "361    564\n",
            "362    634\n",
            "370    562\n",
            "385    583\n",
            "416    580\n",
            "421    531\n",
            "436    602\n",
            "443    595\n",
            "455    501\n",
            "456    616\n",
            "461    518\n",
            "462    659\n",
            "463    520\n",
            "481    658\n",
            "487    561\n",
            "dtype: int64\n"
          ]
        },
        {
          "output_type": "display_data",
          "data": {
            "text/plain": [
              "<IPython.core.display.Javascript object>"
            ],
            "application/javascript": [
              "parent.postMessage({\"jupyterEvent\": \"custom.exercise_interaction\", \"data\": {\"outcomeType\": 1, \"valueTowardsCompletion\": 0.1, \"interactionType\": 1, \"questionType\": 2, \"questionId\": \"9_Q9\", \"learnToolsVersion\": \"1.0.4\", \"failureMessage\": \"\", \"exceptionClass\": \"\", \"trace\": \"\"}}, \"*\")"
            ]
          },
          "metadata": {}
        },
        {
          "output_type": "display_data",
          "data": {
            "text/plain": [
              "CORRETO: \n"
            ],
            "text/markdown": "<span style=\"color:#33cc33\">CORRETO:</span> \n\n"
          },
          "metadata": {}
        }
      ],
      "source": [
        "# q9.hint()\n",
        "\n",
        "series_subset_values = series[(series >500) & (series < 700)]\n",
        "print(series_subset_values)\n",
        "\n",
        "q9.check()"
      ]
    },
    {
      "cell_type": "markdown",
      "metadata": {
        "id": "1Dr2uCIC_YCJ"
      },
      "source": [
        "## 10. Imprima a raiz quadrada de todos os valores da Série\n",
        "Armazene-os na variável `series_sqrt_values`.\n",
        "\n",
        "**Atenção**: Mantenha o tipo da série como `float64`. Os valores inválidos devem ser `NaN`.\n",
        "\n",
        "Chame a função `q10.check()` no fim da célula para verificar a resposta.\n",
        "Você pode pedir dicas com `q10.hint()` onde n é o número da dica."
      ]
    },
    {
      "cell_type": "code",
      "execution_count": null,
      "metadata": {
        "id": "W8J2Sjv2X7_7",
        "colab": {
          "base_uri": "https://localhost:8080/",
          "height": 255
        },
        "outputId": "28a5c95e-56b1-4aec-97c9-70e00c9ba3cd"
      },
      "outputs": [
        {
          "output_type": "stream",
          "name": "stdout",
          "text": [
            "0      24.839485\n",
            "1            NaN\n",
            "2            NaN\n",
            "3            NaN\n",
            "4      27.928480\n",
            "         ...    \n",
            "495     4.358899\n",
            "496          NaN\n",
            "497    20.248457\n",
            "498          NaN\n",
            "499    29.017236\n",
            "Length: 500, dtype: float64\n"
          ]
        },
        {
          "output_type": "display_data",
          "data": {
            "text/plain": [
              "<IPython.core.display.Javascript object>"
            ],
            "application/javascript": [
              "parent.postMessage({\"jupyterEvent\": \"custom.exercise_interaction\", \"data\": {\"outcomeType\": 1, \"valueTowardsCompletion\": 0.1, \"interactionType\": 1, \"questionType\": 2, \"questionId\": \"10_Q10\", \"learnToolsVersion\": \"1.0.4\", \"failureMessage\": \"\", \"exceptionClass\": \"\", \"trace\": \"\"}}, \"*\")"
            ]
          },
          "metadata": {}
        },
        {
          "output_type": "display_data",
          "data": {
            "text/plain": [
              "CORRETO: \n"
            ],
            "text/markdown": "<span style=\"color:#33cc33\">CORRETO:</span> \n\n"
          },
          "metadata": {}
        }
      ],
      "source": [
        "#q10.hint()\n",
        "\n",
        "series_sqrt_values = series**(1/2)\n",
        "print(series_sqrt_values)\n",
        "\n",
        "q10.check()"
      ]
    },
    {
      "cell_type": "markdown",
      "metadata": {
        "id": "Jd_q_zl5_YCK"
      },
      "source": [
        "## 11. Faça sua própria ~5ª~ série!\n",
        "\n",
        "Agora é sua vez de brincar com as séries. E bem não é *exatamente* a 5ª série, mas é quase!"
      ]
    },
    {
      "cell_type": "markdown",
      "metadata": {
        "id": "XbaVn97-_YCK"
      },
      "source": [
        "### 11.a.\n",
        "Crie uma série (`pd.Series`) que possui os dados das notas de **todas** as turmas de 5ª série de **todas as disciplinas** de uma escola fictícia. Dê um nome pra essa escola e explique quantas disciplinas essas turmas cursam e quantos alunos possuem em cada sala.\n",
        "\n",
        "Armazene a sua série na variável `grades`.\n",
        "\n",
        "Chame a função `q11.a.check()` no fim da célula para verificar a resposta.\n",
        "Você pode pedir dica com `q11.a.hint()`."
      ]
    },
    {
      "cell_type": "markdown",
      "metadata": {
        "id": "bw1CwZAr_YCK"
      },
      "source": [
        "#### Resposta:\n",
        "\n",
        "Na escola Sofri Mento possui 2 turmas com 5 alunos de 5ª série. Essas turmas possuem 4 materias: Português, Matématica, Ciência e Educação Física."
      ]
    },
    {
      "cell_type": "code",
      "execution_count": 63,
      "metadata": {
        "id": "x0v7n2tf_YCM",
        "colab": {
          "base_uri": "https://localhost:8080/",
          "height": 197
        },
        "outputId": "5ea0716b-723a-4fbc-c973-3bf21478edc3"
      },
      "outputs": [
        {
          "output_type": "display_data",
          "data": {
            "text/plain": [
              "<IPython.core.display.Javascript object>"
            ],
            "application/javascript": [
              "parent.postMessage({\"jupyterEvent\": \"custom.exercise_interaction\", \"data\": {\"interactionType\": 2, \"questionType\": 2, \"questionId\": \"11.1_Q11A\", \"learnToolsVersion\": \"1.0.4\", \"valueTowardsCompletion\": 0.0, \"failureMessage\": \"\", \"exceptionClass\": \"\", \"trace\": \"\", \"outcomeType\": 4}}, \"*\")"
            ]
          },
          "metadata": {}
        },
        {
          "output_type": "display_data",
          "data": {
            "text/plain": [
              "Dica: Utilize a função `pd.Series` com uma lista de números como argumento. A função `random.sample` pode ser útil..."
            ],
            "text/markdown": "<span style=\"color:#3366cc\">Dica:</span> Utilize a função `pd.Series` com uma lista de números como argumento. A função `random.sample` pode ser útil..."
          },
          "metadata": {}
        },
        {
          "output_type": "stream",
          "name": "stdout",
          "text": [
            "Turma1    Bentu        [10, 3, 5, 6]\n",
            "Jordania     [10, 3...\n",
            "Turma2    Banardo     [1, 2, 10, 6]\n",
            "george     [10, 10, ...\n",
            "Turma3    Candinho    [10, 3, 10, 6]\n",
            "Jigor       [10, 10...\n",
            "dtype: object\n"
          ]
        },
        {
          "output_type": "display_data",
          "data": {
            "text/plain": [
              "<IPython.core.display.Javascript object>"
            ],
            "application/javascript": [
              "parent.postMessage({\"jupyterEvent\": \"custom.exercise_interaction\", \"data\": {\"outcomeType\": 1, \"valueTowardsCompletion\": 0.1, \"interactionType\": 1, \"questionType\": 2, \"questionId\": \"11.1_Q11A\", \"learnToolsVersion\": \"1.0.4\", \"failureMessage\": \"\", \"exceptionClass\": \"\", \"trace\": \"\"}}, \"*\")"
            ]
          },
          "metadata": {}
        },
        {
          "output_type": "display_data",
          "data": {
            "text/plain": [
              "CORRETO: \n"
            ],
            "text/markdown": "<span style=\"color:#33cc33\">CORRETO:</span> \n\n"
          },
          "metadata": {}
        }
      ],
      "source": [
        "q11.a.hint()\n",
        "import random \n",
        "\n",
        "Turma1 = pd.Series([[10, 3, 5, 6], [10, 3, 5, 6], [10, 3, 5, 6], [10, 0, 5, 6], [2, 5, 10, 10]], index=['Bentu', 'Jordania', 'link', 'Parker', 'Vera'])\n",
        "Turma2 = pd.Series([[1, 2, 10, 6], [10, 10, 5, 6], [10, 3, 5, 5], [5, 0, 6, 6], [7, 7, 0, 10]], index=['Banardo', 'george', 'Pedro', 'Edu', 'Parda'])\n",
        "Turma3 = pd.Series([[10, 3, 10, 6], [10, 10, 5, 6], [10, 3, 10, 6], [10, 4, 10, 6], [0, 0, 10, 10]], index=['Candinho', 'Jigor', 'Gilberto', 'Vitor', 'Marta'])\n",
        "\n",
        "\n",
        "grades = pd.Series([Turma1, Turma2, Turma3], index=['Turma1', 'Turma2', 'Turma3'])\n",
        "\n",
        "print(grades)\n",
        "\n",
        "q11.a.check()"
      ]
    },
    {
      "cell_type": "markdown",
      "metadata": {
        "id": "B6tRkCai_YCN"
      },
      "source": [
        "### 11.b.\n",
        "Agora, usando a série `grades` que você criou, extraia 5 informações que podem ser úteis em uma reunião de pais, análise pedagócica, avaliações, etc.\n",
        "\n",
        "Esta questão não possui `check`.\n",
        "Mas você pode pedir dica com `q11.b.hint()`."
      ]
    },
    {
      "cell_type": "code",
      "execution_count": 97,
      "metadata": {
        "id": "C6muNafm_YCN",
        "colab": {
          "base_uri": "https://localhost:8080/"
        },
        "outputId": "fe73d49e-7f3f-44b5-eaf4-8eaaaf6e51ea"
      },
      "outputs": [
        {
          "output_type": "stream",
          "name": "stdout",
          "text": [
            "Notas do melhor Aluno [10, 10, 5, 6]\n",
            "A média da Turma 1 é: 6.0\n",
            "A média da Turma 2 é: 5.7\n",
            "A média da Turma 3 é: 6.95\n",
            "Nivel de ensino da escola(media das 3 turmas): 6.216666666666666\n",
            "Notas 10 na Turma 1: 6\n",
            "Notas 10 na Turma 2: 5\n",
            "Notas 10 na Turma 3: 10\n"
          ]
        }
      ],
      "source": [
        "# q11.b.hint()\n",
        "\n",
        "#Menor nota\n",
        "\n",
        "def NotaMaior(grades):\n",
        "  maiorTurma1 = max(grades['Turma1'])  \n",
        "  maiorTurma2 = max(grades['Turma2'])\n",
        "  maiorTurma3 = max(grades['Turma3'])\n",
        "\n",
        "  RESULTADOS = [maiorTurma1,maiorTurma2,maiorTurma3]\n",
        "  return max(RESULTADOS)\n",
        "\n",
        "#Media da Turma\n",
        "\n",
        "def mediaDaTurma(turma):\n",
        "  mediaDaTurma = 0\n",
        "  for i in range(5):\n",
        "    mediaDaTurma += np.mean(turma[i])\n",
        "  \n",
        "  return mediaDaTurma/5\n",
        "\n",
        "\n",
        "#Maior nota do Aluno\n",
        "\n",
        "MediaT1 = mediaDaTurma(grades['Turma1'])\n",
        "MediaT2 = mediaDaTurma(grades['Turma2'])\n",
        "MediaT3 = mediaDaTurma(grades['Turma3'])\n",
        "\n",
        "contT1 = Turma1[0].count(10) + Turma1[1].count(10) + Turma1[2].count(10) + Turma1[3].count(10) + Turma1[4].count(10)\n",
        "contT2 = Turma2[0].count(10) + Turma2[1].count(10) + Turma2[2].count(10) + Turma2[3].count(10) + Turma2[4].count(10)\n",
        "contT3 = Turma3[0].count(10) + Turma3[1].count(10) + Turma3[2].count(10) + Turma3[3].count(10) + Turma3[4].count(10)\n",
        "\n",
        "print(f'Notas do melhor Aluno {NotaMaior(grades)}')\n",
        "print(f'A média da Turma 1 é: { MediaT1}')\n",
        "print(f'A média da Turma 2 é: { MediaT2}')\n",
        "print(f'A média da Turma 3 é: { MediaT3}')\n",
        "print(f'Nivel de ensino da escola(media das 3 turmas): {(MediaT1 + MediaT2 + MediaT3)/3}')\n",
        "print(f'Notas 10 na Turma 1: {contT1}');\n",
        "print(f'Notas 10 na Turma 2: {contT2}');\n",
        "print(f'Notas 10 na Turma 3: {contT3}');\n",
        "\n",
        "\n"
      ]
    },
    {
      "cell_type": "markdown",
      "metadata": {
        "id": "4mgJ4QyA_YCN"
      },
      "source": [
        "### 11.c.\n",
        "Faça uma breve análise sobre a utilidade e limitações de uma série `pandas`. Também inclua uma opinião pessoal curta se gostou ou não dessa estrutura.\n",
        "\n",
        "Esta questão não possui `check`.\n",
        "Mas você pode pedir dica com `q11.c.hint()`."
      ]
    },
    {
      "cell_type": "code",
      "execution_count": null,
      "metadata": {
        "id": "FAEcBR4E_YCN"
      },
      "outputs": [],
      "source": [
        "# q11.c.hint()"
      ]
    },
    {
      "cell_type": "markdown",
      "metadata": {
        "id": "bgAImaFL_YCN"
      },
      "source": [
        "#### Resposta:\n",
        "\n",
        "Em alguns casos a séries pandas são uteis, mas a médida que o problema possui mais dados e dados mais complexos a série acaba não sendo util e deixando as funções mais complexas.\n",
        "\n",
        "Achei a função interessante, mas não acho que ela seja util em casos que possui muitos dados."
      ]
    },
    {
      "cell_type": "markdown",
      "metadata": {
        "id": "-wN9Hq9X_YCO"
      },
      "source": [
        ""
      ]
    }
  ],
  "metadata": {
    "colab": {
      "name": "IgorLucas-3865-ccf425.ipynb",
      "provenance": [],
      "collapsed_sections": []
    },
    "kernelspec": {
      "display_name": "Python 3",
      "language": "python",
      "name": "python3"
    },
    "language_info": {
      "codemirror_mode": {
        "name": "ipython",
        "version": 3
      },
      "file_extension": ".py",
      "mimetype": "text/x-python",
      "name": "python",
      "nbconvert_exporter": "python",
      "pygments_lexer": "ipython3",
      "version": "3.9.10"
    }
  },
  "nbformat": 4,
  "nbformat_minor": 0
}